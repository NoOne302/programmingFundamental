{
 "cells": [
  {
   "cell_type": "code",
   "execution_count": 58,
   "id": "a98d77f4",
   "metadata": {},
   "outputs": [
    {
     "name": "stdout",
     "output_type": "stream",
     "text": [
      "enter first number5\n",
      "enter second number4\n",
      "enter third number3\n",
      "enter fourth number2\n",
      "enter fifth number1\n",
      "5 is maximum and 1 is minimum\n"
     ]
    }
   ],
   "source": [
    "# this programs gives us the minimum and maximum values of given numbers\n",
    "num1 = int(input('enter first number'))\n",
    "num2 = int(input('enter second number'))\n",
    "num3 = int(input('enter third number'))\n",
    "num4 = int(input('enter fourth number'))\n",
    "num5 = int(input('enter fifth number'))\n",
    "\n",
    "if num1 >= ( num2 and num3 and num4 and num5):\n",
    "    Max = num1\n",
    "elif num2 >= ( num1 and num3 and num4 and num5):\n",
    "    Max = num2\n",
    "elif num3 >= ( num2 and num1 and num4 and num5):\n",
    "    Max = num3\n",
    "elif num4 >= ( num2 and num3 and num1 and num5):\n",
    "    Max = num4\n",
    "elif num5 >= ( num2 and num3 and num4 and num1):\n",
    "    Max = num5\n",
    "    \n",
    "if num5 <= ( num2 and num3 and num4 and num1):\n",
    "    Min = num5\n",
    "elif num4 <= ( num2 and num3 and num4 and num1):\n",
    "    Min = num4\n",
    "elif num3 <= ( num2 and num3 and num4 and num1):\n",
    "    Min = num3\n",
    "elif num2 <= ( num2 and num3 and num4 and num1):\n",
    "    Min = num2\n",
    "elif num1 <= ( num2 and num3 and num4 and num1):\n",
    "    Min = num1\n",
    "\n",
    "print(Max, \"is maximum and\",Min, \"is minimum\" )\n"
   ]
  },
  {
   "cell_type": "code",
   "execution_count": null,
   "id": "04eb6389",
   "metadata": {},
   "outputs": [],
   "source": [
    "# this program check whether there is duplicate or not\n",
    "num1 = int(input('enter first number'))\n",
    "num2 = int(input('enter second number'))\n",
    "num3 = int(input('enter third number'))\n",
    "num4 = int(input('enter fourth number'))\n",
    "num5 = int(input('enter fifth number'))\n",
    "\n",
    "if num1 == ( num2 or num3 or num4 or num5):\n",
    "    print(\"duplicate\")\n",
    "elif num2 == ( num1 or num3 or num4 or num5):\n",
    "    print(\"duplicate\")\n",
    "elif num3 == ( num1 or num2 or num4 or num5):\n",
    "    print(\"duplicate\")\n",
    "elif num4 == ( num1 or num3 or num2 or num5):\n",
    "    print(\"duplicate\")\n",
    "elif num5 == ( num1 or num3 or num4 or num2):\n",
    "    print(\"duplicate\")\n",
    "else:\n",
    "    print(\"ALL\")\n",
    "\n",
    "\n",
    "\n"
   ]
  },
  {
   "cell_type": "code",
   "execution_count": null,
   "id": "20f695dc",
   "metadata": {},
   "outputs": [],
   "source": [
    "# this program converts seconds into hours minutes and seconds\n",
    "def seconds_converter(seconds):\n",
    "    \n",
    "    hour = seconds // 3600\n",
    "    reminder_one = seconds % 3600\n",
    "    minute = reminder_one // 60\n",
    "    second = reminder_one % 60\n",
    "    \n",
    "    print(hour, \"Hour\", minute, \"minute and\",second, \"seconds\"  )\n",
    "    \n",
    "\n",
    "Seconds = int(input(\"Enter seconds you want to convert into standard time: \"))\n",
    "seconds_converter(Seconds)\n"
   ]
  },
  {
   "cell_type": "code",
   "execution_count": null,
   "id": "ccfbcd4e",
   "metadata": {},
   "outputs": [],
   "source": [
    "# this programs transtale english days into spanish\n",
    "day = input(\"enter the day you want to convert:\")\n",
    "day = day.lower()\n",
    "if day == \"monday\":\n",
    "    print(\"Lunes\")\n",
    "elif day == \"tuesday\":\n",
    "    print(\"Martes\")\n",
    "elif day == \"wednesday\":\n",
    "    print(\"Miercoles\")\n",
    "elif day == \"thursday\":\n",
    "    print(\"Jueves\")\n",
    "elif day == \"friday\":\n",
    "    print(\"Viernes\")\n",
    "elif day == \"saturday\":\n",
    "    print(\"Sabado\")\n",
    "elif day == \"sunday\":\n",
    "    print(\"Domingo\")\n",
    "else:\n",
    "    print(\"enter valid week day\")\n",
    "    "
   ]
  },
  {
   "cell_type": "code",
   "execution_count": null,
   "id": "7295e693",
   "metadata": {},
   "outputs": [],
   "source": [
    "# this program take input from user and tell us that whether he is an adult teenager or child or infant.\n",
    "person = float(input(\"enter age of person:\"))\n",
    "if person >= 20.0:\n",
    "    print('person is adult')\n",
    "elif person >= 13.0:\n",
    "    print(\"person is teenager\")\n",
    "elif person > 1.0:\n",
    "    print(\"person is child\")\n",
    "else:\n",
    "    print(\"person is infant\")"
   ]
  },
  {
   "cell_type": "code",
   "execution_count": 3,
   "id": "ae085b95",
   "metadata": {},
   "outputs": [
    {
     "name": "stdout",
     "output_type": "stream",
     "text": [
      "enter your weight:24342\n",
      "enter your height32423423\n",
      "your BMI is: 1.6277730681792604e-08 kg/m2\n",
      "you are underweight\n"
     ]
    }
   ],
   "source": [
    "# this programs check the bmi of a person and tells us that where he is fit or not.\n",
    "weight = float(input(\"enter your weight in pound:\"))\n",
    "height = float(input(\"enter your height in INCH:x\"))\n",
    "\n",
    "BMI = (weight/ (height**2)) * 703\n",
    "print(\"your BMI is:\", BMI,\"kg/m2\")\n",
    "if BMI > 25:\n",
    "    print('you are overweight')\n",
    "elif BMI >= 18.5:\n",
    "    print(\"you have optimal weight\")\n",
    "else:\n",
    "    print(\"you are underweight\")"
   ]
  },
  {
   "cell_type": "code",
   "execution_count": 10,
   "id": "b8e95826",
   "metadata": {},
   "outputs": [
    {
     "name": "stdout",
     "output_type": "stream",
     "text": [
      "enter weight of the product23423432432\n",
      "the shipping charges are $ 111261304052.0\n"
     ]
    }
   ],
   "source": [
    "# this program calculate the rate for products\n",
    "def calculate(weight):\n",
    "    if weight > 10:\n",
    "        charge = weight * 4.75\n",
    "    elif weight > 6.0:\n",
    "        charge = weight * 4.0\n",
    "    elif weight > 2:\n",
    "        charge = weight * 3.0\n",
    "    else:\n",
    "        charge = weight * 1.50\n",
    "    \n",
    "    return charge\n",
    "\n",
    "weight = float(input(\"enter weight of the product:\"))\n",
    "charge = calculate(weight)\n",
    "print(\"the shipping charges are $\",charge)\n",
    "    "
   ]
  }
 ],
 "metadata": {
  "kernelspec": {
   "display_name": "Python 3",
   "language": "python",
   "name": "python3"
  },
  "language_info": {
   "codemirror_mode": {
    "name": "ipython",
    "version": 3
   },
   "file_extension": ".py",
   "mimetype": "text/x-python",
   "name": "python",
   "nbconvert_exporter": "python",
   "pygments_lexer": "ipython3",
   "version": "3.8.8"
  }
 },
 "nbformat": 4,
 "nbformat_minor": 5
}
