{
 "cells": [
  {
   "cell_type": "code",
   "execution_count": null,
   "id": "f53ecf68",
   "metadata": {},
   "outputs": [],
   "source": [
    "# this programs gives us the factorials of the given number\n",
    "fact = 1\n",
    "num = int(input('enter number: '))\n",
    "while num > 1:\n",
    "    fact = fact * num\n",
    "    num -= 1\n",
    "print(fact, \"is the factorial\")"
   ]
  },
  {
   "cell_type": "code",
   "execution_count": 2,
   "id": "7c1b1794",
   "metadata": {},
   "outputs": [
    {
     "name": "stdout",
     "output_type": "stream",
     "text": [
      "enter number: 5\n",
      "24 is the factorial\n"
     ]
    }
   ],
   "source": [
    "# another code for fatorial\n",
    "# this programs gives us the factorials of the given number\n",
    "fact = 1\n",
    "num = int(input('enter number: '))\n",
    "for i in range(1,num):    \n",
    "    fact = fact * i\n",
    "    \n",
    "print(fact, \"is the factorial\")"
   ]
  },
  {
   "cell_type": "code",
   "execution_count": null,
   "id": "836ecdec",
   "metadata": {},
   "outputs": [],
   "source": [
    "# this programs calculate the table of a given number\n",
    "\n",
    "def table(num):\n",
    "    for i in range(10):\n",
    "        print(number,\"*\",i, \"=\",number*i)\n",
    "        \n",
    "\n",
    "        "
   ]
  },
  {
   "cell_type": "code",
   "execution_count": null,
   "id": "d7833818",
   "metadata": {},
   "outputs": [],
   "source": [
    "# this programs calculate the table of a given number\n",
    "  \n",
    "number = int(input(\"enter number: \"))\n",
    "n = 1\n",
    "while n<=10:\n",
    "    print(number,\" * \", n , \" = \",number*n)\n",
    "    n+=1\n",
    "           \n",
    "\n",
    "    "
   ]
  },
  {
   "cell_type": "code",
   "execution_count": null,
   "id": "cb25819a",
   "metadata": {},
   "outputs": [
    {
     "name": "stdout",
     "output_type": "stream",
     "text": [
      "enter a number: 1\n",
      "enter second number: 2\n",
      "press 1 for add / press 2 for sub / press 3 for mult / press 4 for div:1\n",
      "sum of  1 and 2 is: 3\n",
      "you want to continue 'Y/N':y\n"
     ]
    }
   ],
   "source": [
    "# this programe simple mathmathical operations for us\n",
    "\n",
    "# check = input(\"you want to continue 'Y/N':\")\n",
    "# \n",
    "check = \"Y\"\n",
    "while check !=\"N\":\n",
    "    if check ==\"Y\" :\n",
    "        num = int(input('enter a number: '))\n",
    "        num2 = int(input('enter second number: '))\n",
    "        operator = int(input('press 1 for add / press 2 for sub / press 3 for mult / press 4 for div:'))\n",
    "        if operator == 1:\n",
    "            print('sum of ',num, 'and', num2,'is:',num + num2)\n",
    "        elif operator == 2:\n",
    "            print('subtraction of ',num ,'and', num2,'is:',num - num2)\n",
    "        elif operator == 3:\n",
    "            print('product of ',num ,'and', num2,'is:',num * num2)\n",
    "        elif operator == 4:\n",
    "            print('division of ',num, 'and', num2,'is:',num / num2)\n",
    "        else:\n",
    "            print('press correct number')\n",
    "    else:\n",
    "        print('Enter valid condition')\n",
    "    check = input(\"you want to continue 'Y/N':\")\n",
    "    check = check.upper()\n",
    "#     check = check.upper()\n",
    "#     num = int(input('enter a number: '))\n",
    "#     num2 = int(input('enter second number: '))\n",
    "#     operator = int(input('press 1 for add / press 2 for sub / press 3 for mult / press 4 for div:'))\n",
    "\n"
   ]
  },
  {
   "cell_type": "code",
   "execution_count": null,
   "id": "a7be6e24",
   "metadata": {},
   "outputs": [],
   "source": [
    "# this program find the lcm of given two number\n",
    "\n",
    "num1 = int(input(\"enter first number\"))\n",
    "num2 = int(input(\"enter second number\"))\n",
    "\n",
    "def lcm(a,b): \n",
    "    n = 1\n",
    "    while True: #run until this becomes false\n",
    "        \n",
    "        if (n%num1==0) and (n%num2==0):\n",
    "            return n\n",
    "            break\n",
    "        else:\n",
    "            n+=1\n",
    "    return n\n",
    "Lcm = lcm(num1, num2)\n",
    "print('the lcm is:',Lcm)"
   ]
  },
  {
   "cell_type": "code",
   "execution_count": null,
   "id": "fb8b11c5",
   "metadata": {},
   "outputs": [],
   "source": []
  },
  {
   "cell_type": "code",
   "execution_count": null,
   "id": "e3703111",
   "metadata": {},
   "outputs": [],
   "source": [
    "num1 = int(input(\"enter first number\"))\n",
    "num2 = int(input(\"enter second number\"))\n",
    "\n",
    "def hcf(c,d):\n",
    "    Min = min(num1,num2)\n",
    "    Max = max(num1,num2)\n",
    "\n",
    "    while True:\n",
    "        if Max%Min == 0:\n",
    "            a = Min\n",
    "            break\n",
    "        a = Max%Min\n",
    "        Max = Min\n",
    "        Min = a\n",
    "    return a\n",
    "\n",
    "total = hcf(num1,num2)\n",
    "print('hcf of ',num1,'and',num2,'is: ', total)\n",
    "        "
   ]
  },
  {
   "cell_type": "code",
   "execution_count": null,
   "id": "954d08a4",
   "metadata": {},
   "outputs": [],
   "source": [
    "num1 = int(input(\"enter first number\"))\n",
    "num2 = int(input(\"enter second number\"))\n",
    "\n",
    "def hcf(c,d):\n",
    "    Min = min(num1,num2)\n",
    "    Max = max(num1,num2)\n",
    "\n",
    "    while True:\n",
    "        if Max%Min == 0:\n",
    "            a = Min\n",
    "            break\n",
    "        a = Max%Min\n",
    "        Max = Min\n",
    "        Min = a\n",
    "    return a\n",
    "\n",
    "total = hcf(num1,num2)\n",
    "print('hcf of ',num1,'and',num2,'is: ', total)"
   ]
  },
  {
   "cell_type": "code",
   "execution_count": null,
   "id": "6f51fa95",
   "metadata": {},
   "outputs": [],
   "source": [
    "def GCD(a,b):\n",
    "    if a>=b:\n",
    "        min_no=b\n",
    "    else:\n",
    "        min_no_=a\n",
    "    while True:\n",
    "        if a%min_no == 0 and b%min_no == 0:\n",
    "            gcd = min_no\n",
    "            break\n",
    "        min_no-=1\n",
    "    return gcd\n",
    "\n",
    "a = 27\n",
    "b  = 30\n",
    "\n",
    "print(GCD(a,b))\n"
   ]
  },
  {
   "cell_type": "code",
   "execution_count": 5,
   "id": "68ccffd1",
   "metadata": {},
   "outputs": [
    {
     "name": "stdout",
     "output_type": "stream",
     "text": [
      "1\n"
     ]
    }
   ],
   "source": [
    "num == 521\n",
    "new = str(num)\n",
    "count = 0\n",
    "for i in new:\n",
    "    count+=1\n",
    "print(count)"
   ]
  },
  {
   "cell_type": "code",
   "execution_count": null,
   "id": "d9bba7fb",
   "metadata": {},
   "outputs": [],
   "source": []
  }
 ],
 "metadata": {
  "kernelspec": {
   "display_name": "Python 3",
   "language": "python",
   "name": "python3"
  },
  "language_info": {
   "codemirror_mode": {
    "name": "ipython",
    "version": 3
   },
   "file_extension": ".py",
   "mimetype": "text/x-python",
   "name": "python",
   "nbconvert_exporter": "python",
   "pygments_lexer": "ipython3",
   "version": "3.8.8"
  }
 },
 "nbformat": 4,
 "nbformat_minor": 5
}
