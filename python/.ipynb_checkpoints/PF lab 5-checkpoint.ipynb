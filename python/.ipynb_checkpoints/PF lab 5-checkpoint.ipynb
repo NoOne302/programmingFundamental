{
 "cells": [
  {
   "cell_type": "code",
   "execution_count": null,
   "id": "a96a9004",
   "metadata": {},
   "outputs": [],
   "source": [
    "# Area of Sphere\n",
    "from math import pi\n",
    "radius = float(input(\"Enter the radius of sphere: \"))\n",
    "\n",
    "area = 4*pi*radius**2\n",
    "\n",
    "print('The Area of Sphere is:', area)\n"
   ]
  },
  {
   "cell_type": "code",
   "execution_count": null,
   "id": "aabe4a53",
   "metadata": {},
   "outputs": [],
   "source": [
    "from math import sqrt\n",
    "sqrt(3)"
   ]
  },
  {
   "cell_type": "code",
   "execution_count": null,
   "id": "11941530",
   "metadata": {},
   "outputs": [],
   "source": [
    "a = min\n",
    "b = max\n",
    "b(1, a(2, 3))"
   ]
  },
  {
   "cell_type": "code",
   "execution_count": null,
   "id": "06cd669c",
   "metadata": {},
   "outputs": [],
   "source": [
    "def sqrt(x, guess = 0.0):\n",
    "    \n",
    "    if good_guess(guess, x):\n",
    "        return guess\n",
    "    \n",
    "    else:\n",
    "        new_guess = improve_guess(guess, x)\n",
    "        return sqrt(x, new_guess)\n",
    "    \n",
    "def good_guess(guess, x):\n",
    "    if abs( guess * guess - x) < 0.1:\n",
    "        return True\n",
    "    \n",
    "    else:\n",
    "        return False\n",
    "        \n",
    "def improve_guess(guess, x):\n",
    "    if ( guess * guess - x) < 0.1:\n",
    "        return guess + 0.1\n",
    "    else:\n",
    "        return guess - 0.1\n",
    "    \n",
    "    \n",
    "sqrt(25)"
   ]
  },
  {
   "cell_type": "code",
   "execution_count": null,
   "id": "b672f256",
   "metadata": {},
   "outputs": [],
   "source": [
    "\n",
    "\n",
    "\n",
    "\n",
    "\n"
   ]
  },
  {
   "cell_type": "code",
   "execution_count": null,
   "id": "173c8171",
   "metadata": {},
   "outputs": [],
   "source": [
    "print(\"hey can you here me\")"
   ]
  },
  {
   "cell_type": "code",
   "execution_count": null,
   "id": "1b1cb55c",
   "metadata": {},
   "outputs": [],
   "source": [
    "hex(23)"
   ]
  },
  {
   "cell_type": "code",
   "execution_count": null,
   "id": "930b58ca",
   "metadata": {},
   "outputs": [],
   "source": [
    "hex(12)"
   ]
  },
  {
   "cell_type": "code",
   "execution_count": 2,
   "id": "ddf70710",
   "metadata": {},
   "outputs": [
    {
     "name": "stdout",
     "output_type": "stream",
     "text": [
      "sum of 4 and 5 is:  9\n"
     ]
    }
   ],
   "source": [
    "# return multiple values\n",
    "def plus(a, b):\n",
    "    add = a+b\n",
    "    return add, a, b\n",
    "\n",
    "# Sum,a,b= plus(4, 5)\n",
    "Sum, a, b= plus(4,5)\n",
    "\n",
    "print('sum of', a, 'and', b , \"is: \", Sum)"
   ]
  },
  {
   "cell_type": "code",
   "execution_count": null,
   "id": "e9d3b202",
   "metadata": {},
   "outputs": [],
   "source": []
  },
  {
   "cell_type": "code",
   "execution_count": 6,
   "id": "fc995f1c",
   "metadata": {
    "collapsed": true
   },
   "outputs": [
    {
     "name": "stdout",
     "output_type": "stream",
     "text": [
      "I am first call to user defined function!\n",
      "Again second call to the same function\n",
      "Help on function printme in module __main__:\n",
      "\n",
      "printme(str)\n",
      "    this prints a passed string in this function\n",
      "\n"
     ]
    }
   ],
   "source": [
    "\n",
    "def printme(str):\n",
    "    \"\"\"this prints a passed string in this function\"\"\"\n",
    "    print(str)\n",
    "    \n",
    "printme('I am first call to user defined function!')\n",
    "printme('Again second call to the same function')\n",
    "help(printme)"
   ]
  },
  {
   "cell_type": "code",
   "execution_count": 5,
   "id": "aebde5a5",
   "metadata": {},
   "outputs": [
    {
     "name": "stdout",
     "output_type": "stream",
     "text": [
      "4 is postive\n",
      "None\n"
     ]
    }
   ],
   "source": [
    "def positive(x):\n",
    "    if x < 0:\n",
    "        print(x, \"is negative\")\n",
    "    else:\n",
    "        print(x, \"is postive\")\n",
    "    \n",
    "result = positive(4)\n",
    "print(result)"
   ]
  },
  {
   "cell_type": "code",
   "execution_count": 2,
   "id": "cc131b0c",
   "metadata": {},
   "outputs": [
    {
     "name": "stdout",
     "output_type": "stream",
     "text": [
      "sheryarsher\n"
     ]
    }
   ],
   "source": [
    "# No return no perameter\n",
    "def myName():\n",
    "    print(\"sheryarsher\")\n",
    "    \n",
    "myName()"
   ]
  },
  {
   "cell_type": "code",
   "execution_count": 16,
   "id": "708df87a",
   "metadata": {},
   "outputs": [
    {
     "name": "stdout",
     "output_type": "stream",
     "text": [
      "product is: 8\n"
     ]
    }
   ],
   "source": [
    "# no return but perameter\n",
    "def mul(a, b):\n",
    "    mult = a*b\n",
    "    print(\"product is:\", mult)\n",
    "    \n",
    "mul(2, 4)"
   ]
  },
  {
   "cell_type": "code",
   "execution_count": 7,
   "id": "1069ee80",
   "metadata": {},
   "outputs": [
    {
     "name": "stdout",
     "output_type": "stream",
     "text": [
      "4.0\n"
     ]
    }
   ],
   "source": [
    "# return and perameter\n",
    "def div(a, b):\n",
    "    divd = a / b\n",
    "    return divd\n",
    "\n",
    "result = div(8, 2)\n",
    "print(result)"
   ]
  },
  {
   "cell_type": "code",
   "execution_count": 8,
   "id": "181b6376",
   "metadata": {},
   "outputs": [
    {
     "name": "stdout",
     "output_type": "stream",
     "text": [
      "-2\n"
     ]
    }
   ],
   "source": [
    "# return but no perameter\n",
    "def sub():\n",
    "    a = 4 \n",
    "    b = 6\n",
    "    dif = a-b\n",
    "    return dif\n",
    "result = sub()\n",
    "print(result)"
   ]
  },
  {
   "cell_type": "code",
   "execution_count": 15,
   "id": "1a621b61",
   "metadata": {},
   "outputs": [
    {
     "name": "stdout",
     "output_type": "stream",
     "text": [
      "sum of 3 and 4 is: 7\n"
     ]
    }
   ],
   "source": [
    "# default perameter\n",
    "def plus(a , b=4):\n",
    "    add = a + b\n",
    "    return add,a,b\n",
    "result,a,b= plus(3)\n",
    "print(\"sum of\", a, \"and\",b, \"is:\", result)"
   ]
  },
  {
   "cell_type": "code",
   "execution_count": 14,
   "id": "ff8073b8",
   "metadata": {},
   "outputs": [
    {
     "name": "stdout",
     "output_type": "stream",
     "text": [
      "hello world\n"
     ]
    }
   ],
   "source": [
    "# required peramterr\n",
    "def required(x):\n",
    "    print(x)\n",
    "    \n",
    "required(\"hello world\")"
   ]
  },
  {
   "cell_type": "code",
   "execution_count": 22,
   "id": "66b1ab72",
   "metadata": {},
   "outputs": [
    {
     "name": "stdout",
     "output_type": "stream",
     "text": [
      "Name : Sheryar Sher\n",
      "Age : 19\n",
      "DoB : 21-03-04\n"
     ]
    }
   ],
   "source": [
    "# default keyword\n",
    "def printme(name, age, dob):\n",
    "    print(\"Name :\" , name)\n",
    "    print(\"Age :\", age)\n",
    "    print(\"DoB :\" , dob)\n",
    "    \n",
    "printme(age = 19, name= \"Sheryar Sher\" ,dob = \"21-03-04\")"
   ]
  },
  {
   "cell_type": "code",
   "execution_count": 23,
   "id": "a30e3cdc",
   "metadata": {},
   "outputs": [
    {
     "name": "stdout",
     "output_type": "stream",
     "text": [
      "27\n"
     ]
    }
   ],
   "source": [
    "# variable length argument\n",
    "def plus(*arg):\n",
    "    return sum(arg)\n",
    "\n",
    "\n",
    "print(plus(1, 3, 4, 5, 6, 8))"
   ]
  },
  {
   "cell_type": "code",
   "execution_count": 24,
   "id": "6336de54",
   "metadata": {},
   "outputs": [
    {
     "name": "stdout",
     "output_type": "stream",
     "text": [
      "value inside function : 3\n",
      "value outside function : 40\n"
     ]
    }
   ],
   "source": [
    "# scope in function\n",
    "def my_func():\n",
    "    x = 3\n",
    "    print('value inside function :', x)\n",
    "    \n",
    "x = 40\n",
    "my_func()\n",
    "print('value outside function :', x)\n"
   ]
  },
  {
   "cell_type": "code",
   "execution_count": null,
   "id": "a1a59b60",
   "metadata": {},
   "outputs": [],
   "source": []
  }
 ],
 "metadata": {
  "kernelspec": {
   "display_name": "Python 3",
   "language": "python",
   "name": "python3"
  },
  "language_info": {
   "codemirror_mode": {
    "name": "ipython",
    "version": 3
   },
   "file_extension": ".py",
   "mimetype": "text/x-python",
   "name": "python",
   "nbconvert_exporter": "python",
   "pygments_lexer": "ipython3",
   "version": "3.8.8"
  }
 },
 "nbformat": 4,
 "nbformat_minor": 5
}
