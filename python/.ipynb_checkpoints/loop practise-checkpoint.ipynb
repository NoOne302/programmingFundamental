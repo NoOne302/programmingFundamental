{
 "cells": [
  {
   "cell_type": "code",
   "execution_count": null,
   "id": "abaab070",
   "metadata": {},
   "outputs": [],
   "source": [
    "def fact(c):\n",
    "    while c != 1:\n",
    "        if c == 1:\n",
    "            return 1\n",
    "        else:\n",
    "            return c * (c-1)\n",
    "\n",
    "print(fact(4))"
   ]
  },
  {
   "cell_type": "code",
   "execution_count": null,
   "id": "15511686",
   "metadata": {},
   "outputs": [],
   "source": [
    "\n",
    "def hcf(d,h):\n",
    "    Min = min(d,h)\n",
    "    Max = max(d,h)\n",
    "    \n",
    "    while True:\n",
    "        if Max % Min ==0:\n",
    "            break\n",
    "        else:\n",
    "            r = Max%Min   \n",
    "            Max = Min\n",
    "            Min = r\n",
    "            \n",
    "    return Min\n",
    "x = int(input('enter first number:'))\n",
    "y = int(input('enter second number:'))\n",
    "print(hcf(x,y))\n"
   ]
  },
  {
   "cell_type": "code",
   "execution_count": null,
   "id": "4e9fa134",
   "metadata": {},
   "outputs": [],
   "source": [
    "sub1 = input('enter grade of first  subject: ')\n",
    "sub1 = sub1.upper()\n",
    "hour1 = float(input('enter credit hour of first subject:'))\n",
    "sub2 = input('enter grade of second subject')\n",
    "sub2 = sub2.upper()\n",
    "hour2 = float(input('enter credit hour of second subject'))\n",
    "sub3 = input('enter grade of third subject')\n",
    "sub2 = sub2.upper()\n",
    "hour3= float(input('enter credit hour of third subject'))\n",
    "\n",
    "    \n",
    "\n",
    "if sub1  == 'A':\n",
    "    sub1 = 4.0\n",
    "elif sub1  == 'A-':\n",
    "    sub1 = 3.67\n",
    "elif sub1  == 'B+':\n",
    "    sub1 = 3.33\n",
    "elif sub1  == 'B':\n",
    "    sub1  = 3.0\n",
    "elif sub1  == 'B-':\n",
    "    sub1  = 2.67\n",
    "elif sub1  == 'C+':\n",
    "    sub1  = 2.33\n",
    "elif sub1  == 'C':\n",
    "    sub1  = 2.0\n",
    "elif sub1  == 'C-':\n",
    "    sub1  = 1.67\n",
    "elif sub1  == 'D+':\n",
    "    sub1  = 1.33\n",
    "elif sub1  == 'D':\n",
    "    sub1  = 1.0\n",
    "elif sub1  == 'F':\n",
    "    sub1  = 0\n",
    "else:\n",
    "    print(\"enter correct Grade\")\n",
    "if sub2  == 'A':\n",
    "    sub2 = 4.0\n",
    "elif sub2  == 'A-':\n",
    "    sub2 = 3.67\n",
    "elif sub2  == 'B+':\n",
    "    sub2 = 3.33\n",
    "elif sub2  == 'B':\n",
    "    sub2  = 3.0\n",
    "elif sub2  == 'B-':\n",
    "    sub2  = 2.67\n",
    "elif sub2  == 'C+':\n",
    "    sub2  = 2.33\n",
    "elif sub2  == 'C':\n",
    "    sub2  = 2.0\n",
    "elif sub2  == 'C-':\n",
    "    sub2  = 1.67\n",
    "elif sub2  == 'D+':\n",
    "    sub2  = 1.33\n",
    "elif sub2  == 'D':\n",
    "    sub2  = 1.0\n",
    "elif sub2  == 'F':\n",
    "    sub2  = 0\n",
    "else:\n",
    "    print(\"enter correct Grade\")\n",
    "if sub3  == 'A':\n",
    "    sub3 = 4.0\n",
    "elif sub3  == 'A-':\n",
    "    sub3 = 3.67\n",
    "elif sub3  == 'B+':\n",
    "    sub3 = 3.33\n",
    "elif sub3  == 'B':\n",
    "    sub3  = 3.0\n",
    "elif sub3  == 'B-':\n",
    "    sub3  = 2.67\n",
    "elif sub3  == 'C+':\n",
    "    sub3  = 2.33\n",
    "elif sub3  == 'C':\n",
    "    sub3  = 2.0\n",
    "elif sub3  == 'C-':\n",
    "    sub3  = 1.67\n",
    "elif sub3  == 'D+':\n",
    "    sub3  = 1.33\n",
    "elif sub3  == 'D':\n",
    "    sub3  = 1.0\n",
    "elif sub3  == 'F':\n",
    "    sub3  = 0\n",
    "else:\n",
    "    print(\"enter correct Grade\")\n",
    "\n",
    "result = (sub1*hour1 + sub2*hour2 + sub3*hour3)\n",
    "totalHour = (hour1 + hour2 + hour3)\n",
    "gpa = result / totalHour\n",
    "print(\"your GPA is: \", gpa)\n"
   ]
  },
  {
   "cell_type": "code",
   "execution_count": null,
   "id": "353e9c4c",
   "metadata": {},
   "outputs": [],
   "source": [
    "sub1 = input('enter grade of first  subject: ')\n",
    "sub2 = input('enter grade of second subject')\n",
    "if sub1 or sub2 == 'A':\n",
    "    sub1 = 4.0\n",
    "    sub2 = 4\n",
    "elif sub1  == 'A-':\n",
    "    sub1 ,sub2= 3.67\n",
    "print(sub1, sub2)"
   ]
  },
  {
   "cell_type": "code",
   "execution_count": null,
   "id": "53b208ec",
   "metadata": {},
   "outputs": [],
   "source": [
    "n = 0\n",
    "while n < 2:\n",
    "    sub = input('enter grade of first  subject: ')\n",
    "    hour = float(input('enter credit hour of first subject:'))  \n",
    "    n+=1\n",
    "\n",
    "if sub  == 'A':\n",
    "        sub = 4.0\n",
    "elif sub  == 'A-':\n",
    "        sub = 3.67\n",
    "elif sub  == 'B+':\n",
    "        sub1 == 3.33\n",
    "elif sub  == 'B':\n",
    "        sub  == 3.0\n",
    "elif sub  == 'B-':\n",
    "        sub  == 2.67\n",
    "elif sub  == 'C+':\n",
    "        sub  == 2.33\n",
    "elif sub  == 'C':\n",
    "        sub  == 2.0\n",
    "elif sub  == 'C-':\n",
    "        sub  == 1.67\n",
    "elif sub  == 'D+':\n",
    "        sub  == 1.33\n",
    "elif sub  == 'D':\n",
    "        sub  == 1.0\n",
    "elif sub  == 'F':\n",
    "        sub  == 0\n",
    "print(sub)\n",
    "print(hour)"
   ]
  },
  {
   "cell_type": "code",
   "execution_count": null,
   "id": "7656de63",
   "metadata": {},
   "outputs": [],
   "source": [
    "3*2.0"
   ]
  },
  {
   "cell_type": "code",
   "execution_count": null,
   "id": "7a26659c",
   "metadata": {},
   "outputs": [],
   "source": [
    "# this program give us the largest number and count steps too.\n",
    "largest_so_far = [2342342342342324231,434,334353,-34323,23432434-532,32323*5666]\n",
    "step = 0\n",
    "for i in largest_so_far:\n",
    "    step+=1\n",
    "    if i > largest_so_far[0]:        \n",
    "        largest_so_far[0] = i  \n",
    "print(largest_so_far[0],'step',step)\n"
   ]
  },
  {
   "cell_type": "code",
   "execution_count": 8,
   "id": "0a68c733",
   "metadata": {},
   "outputs": [
    {
     "name": "stdout",
     "output_type": "stream",
     "text": [
      "before 0 0\n",
      "1 sum 1 List 1\n",
      "2 sum 3 List 2\n",
      "3 sum 6 List 3\n",
      "4 sum 10 List 4\n",
      "5 sum 15 List 5\n",
      "6 sum 21 List 6\n",
      "List 21 average: 3.5\n"
     ]
    }
   ],
   "source": [
    "# this program give us the sum , average and count the steps too.\n",
    "List = [1,2,3,4,5,6]\n",
    "sum= 0\n",
    "count = 0\n",
    "print(\"before\",count, sum)\n",
    "for i in List:\n",
    "    count+=1\n",
    "    sum+=i\n",
    "    \n",
    "    print(count, \"sum\",sum,'List',i)\n",
    "     \n",
    "print('List',sum,\"average:\",sum/count)"
   ]
  },
  {
   "cell_type": "code",
   "execution_count": 7,
   "id": "63bcb786",
   "metadata": {},
   "outputs": [
    {
     "name": "stdout",
     "output_type": "stream",
     "text": [
      "-7887878787878787 step 7\n"
     ]
    }
   ],
   "source": [
    "# this program give us the smallest number and count steps aswell.\n",
    "smallest_so_far = [2342342342342324231,434,334353,-34323,23432434-532,32323*5666,-7887878787878787]\n",
    "step = 0\n",
    "for i in smallest_so_far:\n",
    "    step+=1\n",
    "    if i < smallest_so_far[0]:        \n",
    "        smallest_so_far[0] = i  \n",
    "print(smallest_so_far[0],'step',step)"
   ]
  },
  {
   "cell_type": "code",
   "execution_count": null,
   "id": "2c41c891",
   "metadata": {},
   "outputs": [],
   "source": []
  },
  {
   "cell_type": "code",
   "execution_count": 11,
   "id": "f897eaa9",
   "metadata": {},
   "outputs": [
    {
     "name": "stdout",
     "output_type": "stream",
     "text": [
      "enter number3434242342523436235460829\n",
      "3434242342523436235460829 is not a prime number\n",
      "3 can divide this number\n"
     ]
    }
   ],
   "source": [
    "# this programme tell us that whether a number is prime number or not and tells us that which number can divide that number\n",
    "num = int(input('enter number'))\n",
    "mod = 2\n",
    "while mod <= num or num ==1:\n",
    "    if num ==1:\n",
    "        print(num,\"is a prime number\")\n",
    "        break\n",
    "    elif num == mod:\n",
    "        print(num,\"is a prime number\")\n",
    "        break\n",
    "    elif num % mod == 0:\n",
    "        print(num, \"is not a prime number\")\n",
    "        print(mod, \"can divide this number\")\n",
    "        break            \n",
    "    else:\n",
    "        mod+=1\n",
    "        \n",
    "    \n",
    "\n",
    "        \n"
   ]
  },
  {
   "cell_type": "code",
   "execution_count": null,
   "id": "046763ef",
   "metadata": {},
   "outputs": [],
   "source": []
  }
 ],
 "metadata": {
  "kernelspec": {
   "display_name": "Python 3",
   "language": "python",
   "name": "python3"
  },
  "language_info": {
   "codemirror_mode": {
    "name": "ipython",
    "version": 3
   },
   "file_extension": ".py",
   "mimetype": "text/x-python",
   "name": "python",
   "nbconvert_exporter": "python",
   "pygments_lexer": "ipython3",
   "version": "3.8.8"
  }
 },
 "nbformat": 4,
 "nbformat_minor": 5
}
