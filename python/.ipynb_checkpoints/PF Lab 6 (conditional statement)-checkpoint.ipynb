{
 "cells": [
  {
   "cell_type": "code",
   "execution_count": null,
   "id": "8e4af660",
   "metadata": {},
   "outputs": [],
   "source": [
    "# conditional statements\n",
    "# if and else\n",
    "\n",
    "\"\"\"decision making\"\"\"\n",
    "\n",
    "# one way decision\n",
    "x =1300\n",
    "y = 300\n",
    "\n",
    "# if x>x\n",
    "if x > y:\n",
    "    print('x is greater than y')\n",
    "\n"
   ]
  },
  {
   "cell_type": "code",
   "execution_count": null,
   "id": "ef343adf",
   "metadata": {},
   "outputs": [],
   "source": [
    "# checks if you are pass\n",
    "marks = int(input('enter your marks out of 100 marks'))\n",
    "\n",
    "if marks > 50:\n",
    "    print(\"you are pass\")"
   ]
  },
  {
   "cell_type": "code",
   "execution_count": null,
   "id": "87af5ed6",
   "metadata": {},
   "outputs": [],
   "source": [
    "# checks whether this is positive or a negative number\n",
    "num = 3\n",
    "if num > 0:\n",
    "    print(\"is a positive number\")\n",
    "print(\"this wil always printed, because its outside the if body\")\n",
    "\n",
    "\n",
    "num = -1\n",
    "if num > 0:\n",
    "    print(\"is a positive number\")\n",
    "print(\"this is also printed, because its outside the if body\")"
   ]
  },
  {
   "cell_type": "code",
   "execution_count": null,
   "id": "84cbc7a0",
   "metadata": {},
   "outputs": [],
   "source": [
    "# checks whether this is odd or even\n",
    "num = int(input('enter your number: '))\n",
    "if num % 2 == 0:\n",
    "    print('this an even number')"
   ]
  },
  {
   "cell_type": "code",
   "execution_count": null,
   "id": "e4ca9949",
   "metadata": {},
   "outputs": [],
   "source": [
    "# \"\"\"if else (two way decisions)\"\"\"\n",
    "marks = int(input('enter your marks out of 100 marks: '))\n",
    "\n",
    "if marks > 50:\n",
    "    print(\"you are pass\")\n",
    "else: \n",
    "    print(\"you are fail\")\n"
   ]
  },
  {
   "cell_type": "code",
   "execution_count": null,
   "id": "a0bb9424",
   "metadata": {},
   "outputs": [],
   "source": [
    "# '''this program check whether the number is positive or negative'''\n",
    "\n",
    "num = -0\n",
    "\n",
    "if num >= 0:\n",
    "    print(\"positive\")\n",
    "else:\n",
    "    print(\"negative\")"
   ]
  },
  {
   "cell_type": "code",
   "execution_count": null,
   "id": "db47cd7f",
   "metadata": {},
   "outputs": [],
   "source": [
    "# odd or even\n",
    "num = int(input('enter your number: '))\n",
    "if num % 2 == 0:\n",
    "    print('this an even number')\n",
    "else:\n",
    "    print(\"this is odd\")"
   ]
  },
  {
   "cell_type": "code",
   "execution_count": null,
   "id": "e2c6fb30",
   "metadata": {},
   "outputs": [],
   "source": [
    "# check which number is greater\n",
    "num = int(input(\"enter first number:\"))\n",
    "num2 = int(input(\"enter second number:\"))\n",
    "\n",
    "if num > num2:\n",
    "    print(num,\"is greater\",num2)\n",
    "else:\n",
    "    print(num,\"is less than\",num2)"
   ]
  },
  {
   "cell_type": "code",
   "execution_count": null,
   "id": "cecdb592",
   "metadata": {},
   "outputs": [],
   "source": [
    "# programe to check whether a person is eligible to vote or not.\n",
    "age = int(input(\"enter your age? \"))\n",
    "\n",
    "if age >= 18:\n",
    "    print(\"your are eligible to vote\")\n",
    "else:\n",
    "    print('your are not eligible to vote')"
   ]
  },
  {
   "cell_type": "code",
   "execution_count": null,
   "id": "a6826377",
   "metadata": {},
   "outputs": [],
   "source": [
    "# multiway decision\n",
    "\n",
    "num = int(input(\"enter first number:\"))\n",
    "num2 = int(input(\"enter second number:\"))\n",
    "\n",
    "if num > num2:\n",
    "    print(num,\"is greater\",num2)\n",
    "elif num == num2:\n",
    "    print(num,\"is equal to\",num2)\n",
    "else:\n",
    "    print(num,\"is less than\",num2)\n",
    "    "
   ]
  },
  {
   "cell_type": "code",
   "execution_count": null,
   "id": "29e99dc2",
   "metadata": {},
   "outputs": [],
   "source": [
    "# this program check whether the number is positive or negative or is zero\n",
    "\n",
    "num = -0\n",
    "\n",
    "if num > 0:\n",
    "    print(\"positive\")\n",
    "elif num == 0:\n",
    "    print(\"zero\")\n",
    "else:\n",
    "    print(\"negative\")"
   ]
  },
  {
   "cell_type": "code",
   "execution_count": null,
   "id": "cbdb9357",
   "metadata": {},
   "outputs": [],
   "source": [
    "# Nested if and else statement\n",
    "# nested means another conditional statement inside a conditional statement\n",
    "\n",
    "num = float(input('enter a number'))\n",
    "if num >=0:\n",
    "    print(\"We know that entered number is greater than 0 so this positive\")\n",
    "    if num == 0:\n",
    "        print(\"zero\")\n",
    "    else:\n",
    "        print(\"positive\")\n",
    "else:\n",
    "    print(\"negative\")\n",
    "\n"
   ]
  },
  {
   "cell_type": "code",
   "execution_count": null,
   "id": "ad20c65e",
   "metadata": {},
   "outputs": [],
   "source": [
    "# this programme checks for vowels\n",
    "letter = input(\"Enter Alphabet: \")\n",
    "\n",
    "# if (\"a\" in letter) or (\"A\"  in letter) :\n",
    "#     print(letter,'is a vowel')\n",
    "# elif (\"e\" in letter) or (\"E\"  in letter):\n",
    "#     print(letter,'is a vowel')\n",
    "# elif (\"i\" in letter) or (\"I\"  in letter):\n",
    "#     print(letter,'is a vowel')\n",
    "# elif (\"o\" in letter) or (\"O\"  in letter):\n",
    "#     print(letter,'is a vowel')\n",
    "# elif (\"u\" in letter) or (\"U\"  in letter):\n",
    "#     print(letter,'is a vowel')\n",
    "if letter in \"a,e,i,o,u,A,E,I,O,U\":\n",
    "    print(letter,\"is a vowel\")\n",
    "else:\n",
    "    print(letter,'is a constant')"
   ]
  },
  {
   "cell_type": "code",
   "execution_count": null,
   "id": "dc891b3f",
   "metadata": {},
   "outputs": [],
   "source": [
    "# this programme tell us about type of triangle\n",
    "x = int(input('input lengths of the triangle sides:'))\n",
    "y =  int(input('input lengths of the triangle sides:'))\n",
    "z =  int(input('input lengths of the triangle sides:'))\n",
    "\n",
    "if x == y == z:\n",
    "    print(\"equilateral triangle\")\n",
    "elif x == y or x==z or y==z:\n",
    "    print(\"isoscales triangle\")\n",
    "else:\n",
    "    print('scalene triangle')\n"
   ]
  },
  {
   "cell_type": "code",
   "execution_count": 3,
   "id": "c54bc2e5",
   "metadata": {},
   "outputs": [
    {
     "name": "stdout",
     "output_type": "stream",
     "text": [
      "enter a number: 4\n",
      "enter second number: 5\n",
      "press 1 for add / press 2 for sub / press 3 for mult / press 4 for div:1\n",
      "sum of  4 and 5 is: 9\n"
     ]
    }
   ],
   "source": [
    "# this programe simple mathmathical operations for us\n",
    "num = int(input('enter a number: '))\n",
    "num2 = int(input('enter second number: '))\n",
    "operator = int(input('press 1 for add / press 2 for sub / press 3 for mult / press 4 for div:'))\n",
    "\n",
    "if operator == 1:\n",
    "    print('sum of ',num, 'and', num2,'is:',num + num2)\n",
    "elif operator == 2:\n",
    "    print('subtraction of ',num ,'and', num2,'is:',num - num2)\n",
    "elif operator == 3:\n",
    "    print('product of ',num ,'and', num2,'is:',num * num2)\n",
    "elif operator == 4:\n",
    "    print('division of ',num, 'and', num2,'is:',num / num2)\n",
    "else:\n",
    "    print('press correct number')\n"
   ]
  },
  {
   "cell_type": "code",
   "execution_count": 5,
   "id": "5c75f224",
   "metadata": {},
   "outputs": [
    {
     "name": "stdout",
     "output_type": "stream",
     "text": [
      "13 is greatest odd number\n"
     ]
    }
   ],
   "source": [
    "# this programme give us the largest odd number\n",
    "\n",
    "def largest_odd(x,y):\n",
    "    if x % 2 and y % 2 != 0:\n",
    "        print(max(x,y),\"is greatest odd number\")\n",
    "    elif x % 2 == 0 and y % 2 != 0:\n",
    "        print(y,'is greatest odd number')\n",
    "    elif x % 2 != 0 and y % 2 == 0:\n",
    "        print(x,'is greatest odd number')\n",
    "    else:\n",
    "        print(\"none of them are odd\")\n",
    "\n",
    "largest_odd(13,6)"
   ]
  },
  {
   "cell_type": "code",
   "execution_count": null,
   "id": "0680f188",
   "metadata": {},
   "outputs": [],
   "source": [
    "num = int(input('enter number'))\n",
    "mod = 2\n",
    "while mod <= num or num ==1:\n",
    "    if num ==1:\n",
    "        print(num,\"is a prime number\")\n",
    "        break\n",
    "    elif num == mod:\n",
    "        print(num,\"is a prime number\")\n",
    "        break\n",
    "    elif num % mod == 0:\n",
    "        print(num, \"is not a prime number\")\n",
    "        break            \n",
    "    else:\n",
    "        mod+=1\n",
    "        \n",
    "    "
   ]
  }
 ],
 "metadata": {
  "kernelspec": {
   "display_name": "Python 3",
   "language": "python",
   "name": "python3"
  },
  "language_info": {
   "codemirror_mode": {
    "name": "ipython",
    "version": 3
   },
   "file_extension": ".py",
   "mimetype": "text/x-python",
   "name": "python",
   "nbconvert_exporter": "python",
   "pygments_lexer": "ipython3",
   "version": "3.8.8"
  }
 },
 "nbformat": 4,
 "nbformat_minor": 5
}
