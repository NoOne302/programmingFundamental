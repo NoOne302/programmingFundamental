{
 "cells": [
  {
   "cell_type": "code",
   "execution_count": null,
   "id": "c4e4cc1a",
   "metadata": {},
   "outputs": [],
   "source": [
    "# this programs calulate the npr of the given number\n",
    "def factorial(num):\n",
    "    fact = 1    \n",
    "    for i in range(1,num+1):\n",
    "        fact = fact * i\n",
    "    return fact\n",
    "def npr():\n",
    "    n = int(input(\"enter the value for n:\"))\n",
    "    r = int(input(\"enter the value for r:\"))\n",
    "    N = factorial(n)\n",
    "    R = factorial(n-r)    \n",
    "    result = N/R\n",
    "    return result,n,r\n",
    "npr,n,r = npr()\n",
    "\n",
    "print(\"npr for\",n,'and',r,\"is:\",npr)\n"
   ]
  },
  {
   "cell_type": "code",
   "execution_count": null,
   "id": "67c83a4f",
   "metadata": {},
   "outputs": [],
   "source": [
    "# this program give us the factors of the given number\n",
    "def factor():\n",
    "    num = int(input(\"enter number:\"))\n",
    "    for i in range(2,num):\n",
    "        if num % i == 0:\n",
    "            print(i,end=\" \")\n",
    "factor()\n"
   ]
  },
  {
   "cell_type": "code",
   "execution_count": null,
   "id": "eb0d7fb2",
   "metadata": {},
   "outputs": [],
   "source": [
    "# this program gives us the sum number that are divisible by 3 and 9\n",
    "def Sum():\n",
    "    num = int(input(\"enter number\"))\n",
    "    add = 0\n",
    "    for i in range(1,num+1):\n",
    "        if i % 3 == 0 and i % 9 == 0:\n",
    "            add = i + add\n",
    "    return add\n",
    "add = Sum()\n",
    "print(\"the sum is:\",add)\n",
    "                                                                                                                                                                                                               "
   ]
  },
  {
   "cell_type": "code",
   "execution_count": null,
   "id": "5d3a9399",
   "metadata": {},
   "outputs": [],
   "source": [
    "# this program gives us the sum number that are divisible by 3 and 9\n",
    "def Sum():\n",
    "    num = 1\n",
    "    add = 0\n",
    "    i =0\n",
    "    while i < 10:\n",
    "        if num % 3 == 0 and num % 9 == 0:            \n",
    "            add = num + add\n",
    "            i+=1\n",
    "            num+=1\n",
    "        else:\n",
    "            num+=1\n",
    "    return add\n",
    "add = Sum()\n",
    "print(\"the sum of first 10 num which are divisible by 3 and 9 is:\",add)"
   ]
  },
  {
   "cell_type": "code",
   "execution_count": null,
   "id": "c48a3ed6",
   "metadata": {},
   "outputs": [],
   "source": [
    "# this program calculate us the fibonachi numbers\n",
    "def fibonachi(num):\n",
    "    a = 0\n",
    "    b = 1\n",
    "    for i in range(num):\n",
    "        print(a)\n",
    "        a,b=b,a+b\n",
    "#         add = a + b\n",
    "#         a = b\n",
    "#         b = add       \n",
    "    \n",
    "num = int(input(\"enter number till which you want to calculate: \"))\n",
    "fibonachi(num)\n",
    "       \n",
    "        \n",
    "    "
   ]
  },
  {
   "cell_type": "code",
   "execution_count": null,
   "id": "48da122b",
   "metadata": {},
   "outputs": [],
   "source": [
    "       \n",
    "def vote(bev): \n",
    "    coff =0\n",
    "    tea =0\n",
    "    orange =0\n",
    "    juice = 0        \n",
    "    if bev == 1:\n",
    "        coff +=1\n",
    "    elif bev == 2:\n",
    "        tea+=1\n",
    "    elif bev == 3:\n",
    "        orange+= 1\n",
    "    elif bev == 4:\n",
    "        juice+= 1     \n",
    "    return coff, tea, orange, juice\n",
    "        \n",
    "def favBev():\n",
    "    Coff = 0\n",
    "    Tea = 0\n",
    "    Orange = 0\n",
    "    Juice = 0\n",
    "    counter = 1\n",
    "    print(\"Choose your favourite beverage from the following list\")\n",
    "    print(\"1.Coffee   2.Tea    3.Orange      4.Juice\") \n",
    "    beverage = 0\n",
    "    while beverage != -1:        \n",
    "        coff, tea, orange, juice = vote(beverage)\n",
    "        Coff+=coff\n",
    "        Tea+=tea\n",
    "        Orange+=orange\n",
    "        Juice+=juice        \n",
    "        beverage = int(input(\"Please input the favourite beverage of person#{}. Choose 1,2,3,4 from the above menu or -1 to exit the program:\".format(counter)))\n",
    "        counter+=1\n",
    "    return Coff, Tea ,Orange , Juice \n",
    "\n",
    "\n",
    "coff, tea ,orange , juice = favBev()\n",
    "print(\"\"\"Beverage            Name  of  votes\n",
    "***********************************\"\"\")\n",
    "print('1.Coffee',\"                  \",coff)\n",
    "print('2.Tea',\"                     \",tea)\n",
    "print('3.Orange',\"                  \",orange)\n",
    "print('4.Juice',\"                   \",juice)"
   ]
  },
  {
   "cell_type": "code",
   "execution_count": null,
   "id": "b0146f05",
   "metadata": {},
   "outputs": [],
   "source": [
    "\n",
    "        \n",
    "def favBev():\n",
    "    Coff = 0\n",
    "    Tea = 0\n",
    "    Orange = 0\n",
    "    Juice = 0\n",
    "    counter = 1\n",
    "    print(\"Choose your favourite beverage from the following list\")\n",
    "    print(\"1.Coffee   2.Tea    3.Orange      4.Juice\") \n",
    "    beverage = 0\n",
    "    while beverage != -1:        \n",
    "        if beverage == 1:\n",
    "            Coff+=1\n",
    "        elif beverage ==2:\n",
    "            Tea+=1\n",
    "        elif beverage == 3:\n",
    "            Orange += 1\n",
    "        elif beverage == 4:\n",
    "            Juice +=1\n",
    "            \n",
    "        beverage = int(input(\"Please input the favourite beverage of person#{}. Choose 1,2,3,4 from the above menu or -1 to exit the program:\".format(counter)))\n",
    "        counter+=1\n",
    "    return Coff, Tea ,Orange , Juice \n",
    "\n",
    "\n",
    "coff, tea ,orange , juice = favBev()\n",
    "print(\"\"\"Beverage            Name  of  votes\n",
    "***********************************\"\"\")\n",
    "print('1.Coffee',\"                  \",coff)\n",
    "print('2.Tea',\"                     \",tea)\n",
    "print('3.Orange',\"                  \",orange)\n",
    "print('4.Juice',\"                   \",juice)"
   ]
  },
  {
   "cell_type": "code",
   "execution_count": null,
   "id": "d77d1c76",
   "metadata": {},
   "outputs": [],
   "source": [
    "num1 = int(input('enter number'))\n",
    "num2 = int(input('enter number'))\n",
    "num = 1\n",
    "mod = 1\n",
    "if num>num2:\n",
    "    Max = num1\n",
    "else:\n",
    "    Max = num2\n",
    "if num>num2:\n",
    "    Min = num2\n",
    "else:\n",
    "    Min = num1\n",
    "while num <= Max:\n",
    "    if num < Max and num > Min:\n",
    "        if num == mod:\n",
    "            print(num)\n",
    "            num+=1\n",
    "            mod = 2\n",
    "        elif num % mod == 0:     \n",
    "            num+=1\n",
    "            mod=2\n",
    "        else:\n",
    "            mod+=1  \n",
    "    else:\n",
    "\n",
    "        num+=1\n",
    "    \n"
   ]
  },
  {
   "cell_type": "code",
   "execution_count": null,
   "id": "deee3f6a",
   "metadata": {},
   "outputs": [],
   "source": [
    "# this programs calulate the npr of the given number\n",
    "def factorial(num):\n",
    "    fact = 1    \n",
    "    for i in range(1,num+1):\n",
    "        fact = fact * i\n",
    "    return fact\n",
    "def npr():\n",
    "    n = int(input(\"enter the value for n:\"))\n",
    "    r = int(input(\"enter the value for r:\"))\n",
    "    N = factorial(n)\n",
    "    R= factorial(r)\n",
    "    NR = factorial(n-r)    \n",
    "    result = N/(NR*R)\n",
    "    return result,n,r\n",
    "ncr,n,r = npr()\n",
    "\n",
    "print(\"ncr for\",n,'and',r,\"is:\",ncr)"
   ]
  },
  {
   "cell_type": "code",
   "execution_count": null,
   "id": "72ae4d36",
   "metadata": {},
   "outputs": [],
   "source": [
    "# this  program prints start in square shape\n",
    "num = int(input(\"enter the value for num:\"))\n",
    "for i in range(num):\n",
    "    for j in range(num):\n",
    "        print(\"*\",end=\"\")\n",
    "        \n",
    "    print()"
   ]
  },
  {
   "cell_type": "code",
   "execution_count": null,
   "id": "4d654648",
   "metadata": {},
   "outputs": [],
   "source": [
    "# this programs prints a triangel for given input\n",
    "num = int(input(\"enter the value for num:\"))\n",
    "for i in range(num,-1,-1):\n",
    "    for j in range(i,-1,-1):\n",
    "        print(\" \",end=\"\")\n",
    "    print('*', end='')\n",
    "    print()"
   ]
  },
  {
   "cell_type": "code",
   "execution_count": null,
   "id": "ae499dcf",
   "metadata": {},
   "outputs": [],
   "source": [
    "# this programs prints a triangel for given input\n",
    "num = int(input(\"enter the value for num:\"))\n",
    "for i in range(num,0,-1):\n",
    "    for j in range(i):\n",
    "        print(\"*\",end=\"\")\n",
    "    print()"
   ]
  },
  {
   "cell_type": "code",
   "execution_count": 14,
   "id": "98400ff1",
   "metadata": {},
   "outputs": [
    {
     "name": "stdout",
     "output_type": "stream",
     "text": [
      "enter the value for num:5\n",
      "\n",
      "*\n",
      "**\n",
      "***\n",
      "****\n",
      "*****\n",
      "****\n",
      "***\n",
      "**\n",
      "*\n"
     ]
    }
   ],
   "source": [
    "num = int(input(\"enter the value for num:\"))\n",
    "for i in range(num):\n",
    "    for j in range(i):\n",
    "        print(\"*\",end=\"\")\n",
    "    print()\n",
    "# num = int(input(\"enter the value for num:\"))\n",
    "for i in range(num,0,-1):\n",
    "    for j in range(i):\n",
    "        print(\"*\",end=\"\")\n",
    "    print()"
   ]
  },
  {
   "cell_type": "code",
   "execution_count": null,
   "id": "ecfc9498",
   "metadata": {},
   "outputs": [],
   "source": [
    "\n",
    "\n",
    "x = 'result is: ';\n",
    "for i in range(0,5):\n",
    "    x += str(i) + ','\n",
    "#     print(i,end=\",\")\n",
    "print(x[:-1])"
   ]
  },
  {
   "cell_type": "code",
   "execution_count": 13,
   "id": "5271ffda",
   "metadata": {},
   "outputs": [
    {
     "name": "stdout",
     "output_type": "stream",
     "text": [
      "enter the value for num:4\n",
      "    *\n",
      "   *\n",
      "  *\n",
      " *\n",
      "*\n",
      " *\n",
      "  *\n",
      "   *\n",
      "    *\n"
     ]
    }
   ],
   "source": [
    "# this programs prints a triangel for given input\n",
    "num = int(input(\"enter the value for num:\"))\n",
    "for i in range(num,0,-1):\n",
    "    for j in range(i,0,-1):\n",
    "        print(\" \",end=\"\")\n",
    "    print('*', end='')\n",
    "    print()\n",
    "# print('*')\n",
    "# num = int(input(\"enter the value for num:\"))\n",
    "for i in range(num+1):\n",
    "    for j in range(i):\n",
    "        print(\" \",end=\"\")\n",
    "    print('*', end='')\n",
    "    print()"
   ]
  },
  {
   "cell_type": "code",
   "execution_count": null,
   "id": "0ced2404",
   "metadata": {},
   "outputs": [],
   "source": []
  },
  {
   "cell_type": "code",
   "execution_count": null,
   "id": "ae1e9f6b",
   "metadata": {},
   "outputs": [],
   "source": []
  }
 ],
 "metadata": {
  "kernelspec": {
   "display_name": "Python 3",
   "language": "python",
   "name": "python3"
  },
  "language_info": {
   "codemirror_mode": {
    "name": "ipython",
    "version": 3
   },
   "file_extension": ".py",
   "mimetype": "text/x-python",
   "name": "python",
   "nbconvert_exporter": "python",
   "pygments_lexer": "ipython3",
   "version": "3.8.8"
  }
 },
 "nbformat": 4,
 "nbformat_minor": 5
}
