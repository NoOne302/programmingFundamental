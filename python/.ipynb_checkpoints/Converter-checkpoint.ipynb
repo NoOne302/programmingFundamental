{
 "cells": [
  {
   "cell_type": "code",
   "execution_count": 5,
   "id": "0636b9c4",
   "metadata": {},
   "outputs": [
    {
     "name": "stdout",
     "output_type": "stream",
     "text": [
      "Enter the pound you want to convert into grams or in kilograms :232323232\n",
      "232323232.0 pound =  105380254499.84865 Grams\n",
      "232323232.0 pound =  105474747.32800001 Kilograms\n"
     ]
    }
   ],
   "source": [
    "def converter(pound):\n",
    "    gram = pound * 453.59327    \n",
    "    print(pound, \"pound = \", gram, \"Grams\")\n",
    "    kilogram = pound * 0.454\n",
    "    print(pound, \"pound = \", kilogram, \"Kilograms\" )\n",
    "\n",
    "\n",
    "\n",
    "Pound = float(input('Enter the pound you want to convert into grams or in kilograms :'))\n",
    "converter(Pound)\n",
    "    "
   ]
  },
  {
   "cell_type": "code",
   "execution_count": 8,
   "id": "d299a8d2",
   "metadata": {},
   "outputs": [
    {
     "name": "stdout",
     "output_type": "stream",
     "text": [
      "Enter number one:56\n",
      "Enter number two:67\n",
      "The sum of 56.0 and 67.0 is: 123.0\n",
      "The subtraction of 56.0 and 67.0 is: -11.0\n",
      "The multiplication of 56.0 and 67.0 is: 3752.0\n",
      "The division of 56.0 and 67.0 is: 0.835820895522388\n"
     ]
    }
   ],
   "source": [
    "def calculator(num1 = 1,num2 = 1):\n",
    "    add = num1 + num2\n",
    "    print(\"The sum of\",num1, \"and\", num2, \"is:\",add )\n",
    "    sub = num1 - num2\n",
    "    print(\"The subtraction of\",num1, \"and\", num2, \"is:\",sub )\n",
    "    mul = num1 * num2\n",
    "    print(\"The multiplication of\",num1, \"and\", num2, \"is:\",mul )\n",
    "    div = num1 / num2\n",
    "    print(\"The division of\",num1, \"and\", num2, \"is:\",div )\n",
    "    \n",
    "\n",
    "number1 = float(input(\"Enter number one:\"))\n",
    "number2 = float(input(\"Enter number two:\"))\n",
    "\n",
    "calculator(number1, number2)\n",
    "    "
   ]
  },
  {
   "cell_type": "code",
   "execution_count": 9,
   "id": "1bfa493e",
   "metadata": {},
   "outputs": [
    {
     "name": "stdout",
     "output_type": "stream",
     "text": [
      "Enter seconds you want to convert into standard time: 45000000\n",
      "12500 Hour 0 minute and 0 seconds\n"
     ]
    }
   ],
   "source": [
    "def seconds_converter(seconds):\n",
    "    \n",
    "    hour = seconds // 3600\n",
    "    reminder_one = seconds % 3600\n",
    "    minute = reminder_one // 60\n",
    "    second = reminder_one % 60\n",
    "    \n",
    "    print(hour, \"Hour\", minute, \"minute and\",second, \"seconds\"  )\n",
    "    \n",
    "\n",
    "Seconds = int(input(\"Enter seconds you want to convert into standard time: \"))\n",
    "seconds_converter(Seconds)\n",
    "\n"
   ]
  },
  {
   "cell_type": "code",
   "execution_count": null,
   "id": "23b93ce2",
   "metadata": {},
   "outputs": [],
   "source": []
  },
  {
   "cell_type": "code",
   "execution_count": null,
   "id": "3dbaa947",
   "metadata": {},
   "outputs": [],
   "source": []
  }
 ],
 "metadata": {
  "kernelspec": {
   "display_name": "Python 3",
   "language": "python",
   "name": "python3"
  },
  "language_info": {
   "codemirror_mode": {
    "name": "ipython",
    "version": 3
   },
   "file_extension": ".py",
   "mimetype": "text/x-python",
   "name": "python",
   "nbconvert_exporter": "python",
   "pygments_lexer": "ipython3",
   "version": "3.8.8"
  }
 },
 "nbformat": 4,
 "nbformat_minor": 5
}
