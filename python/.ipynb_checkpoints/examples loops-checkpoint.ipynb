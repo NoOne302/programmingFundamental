{
 "cells": [
  {
   "cell_type": "code",
   "execution_count": null,
   "id": "a4fce4c9",
   "metadata": {},
   "outputs": [],
   "source": [
    "# printing hello world five times using while loop\n",
    "n  = 0\n",
    "while n < 5:\n",
    "    print(\"hello world\")\n",
    "    n+=1 #incraseing counter by 1\n",
    "print(\"outside of loop\") #outside the loop"
   ]
  },
  {
   "cell_type": "code",
   "execution_count": null,
   "id": "1c69c035",
   "metadata": {},
   "outputs": [],
   "source": [
    "# countaing numbers from 0 to 5\n",
    "i = 0\n",
    "n = 5\n",
    "while i < n:\n",
    "    print(i)\n",
    "    i+=1\n",
    "print('outside of loop')\n"
   ]
  },
  {
   "cell_type": "code",
   "execution_count": null,
   "id": "ada32cd4",
   "metadata": {},
   "outputs": [],
   "source": [
    "# counting numbers from 0 to N\n",
    "i = 0\n",
    "N = int(input('enter number: '))\n",
    "while i < N:\n",
    "    print(i)\n",
    "    i+=1\n",
    "print(\"outside of loop\")"
   ]
  },
  {
   "cell_type": "code",
   "execution_count": null,
   "id": "f5fff71e",
   "metadata": {},
   "outputs": [],
   "source": [
    "# initizlize sum and counter\n",
    "i = 1\n",
    "n = 10\n",
    "sum = 0\n",
    "while i <= 10:\n",
    "    sum = sum + i\n",
    "    i+=1 #update counter\n",
    "\n",
    "# print the sum\n",
    "print(\"this sum is\", sum)"
   ]
  },
  {
   "cell_type": "code",
   "execution_count": null,
   "id": "d5dd85f7",
   "metadata": {},
   "outputs": [],
   "source": [
    "# initizlize sum and counter\n",
    "i = 1\n",
    "n = 10\n",
    "sum = 0\n",
    "while i <= 10:\n",
    "    if i % 2 == 0:\n",
    "        sum = sum + i        \n",
    "    i+=1 #update counter   \n",
    "\n",
    "# print the sum\n",
    "print(\"this sum is\", sum)"
   ]
  },
  {
   "cell_type": "code",
   "execution_count": null,
   "id": "31d5ff8a",
   "metadata": {},
   "outputs": [],
   "source": [
    "# Example 4 (Sum natural numbers until user press q to quit the program)\n",
    "sum = 0\n",
    "input_value = 0\n",
    "while input_value !='q':\n",
    "    sum += int(input_value)\n",
    "    print(\"sum = \", sum)\n",
    "    print('Enter new number to add or press q to quite the program')\n",
    "    input_value = input()\n",
    "print(\"outside of loop\")"
   ]
  },
  {
   "cell_type": "code",
   "execution_count": null,
   "id": "09136a8a",
   "metadata": {},
   "outputs": [],
   "source": [
    "# BREAK AND CONTINUE \n",
    "# we break when the value equals to 5\n",
    "i = 1\n",
    "while i<=10:\n",
    "    if i ==5:\n",
    "        break #break here\n",
    "    \n",
    "    print(\"number is \",i)\n",
    "    i+=1\n",
    "print('outside of loop')"
   ]
  },
  {
   "cell_type": "code",
   "execution_count": 1,
   "id": "04d91a7e",
   "metadata": {},
   "outputs": [
    {
     "name": "stdout",
     "output_type": "stream",
     "text": [
      "number is  1\n",
      "number is  2\n",
      "number is  3\n",
      "number is  4\n",
      "number is  6\n",
      "number is  7\n",
      "number is  8\n",
      "number is  9\n",
      "number is  10\n",
      "number is  11\n",
      "outside of loop\n"
     ]
    }
   ],
   "source": [
    "# we continue when the value equals to 5\n",
    "i = 0\n",
    "while i<=10:\n",
    "    i+=1\n",
    "    if i == 5:\n",
    "        continue #continue here\n",
    "    \n",
    "    print(\"number is \",i)\n",
    "    \n",
    "print('outside of loop')"
   ]
  },
  {
   "cell_type": "code",
   "execution_count": null,
   "id": "adb02044",
   "metadata": {},
   "outputs": [],
   "source": [
    "# Example 5 (Loop through list Value)\n",
    "# loop through list values\n",
    "for i in [5,4,3,2,1]:    \n",
    "    print(i)\n",
    "print(\"Good Bye\")\n"
   ]
  },
  {
   "cell_type": "code",
   "execution_count": null,
   "id": "19ae6aa0",
   "metadata": {},
   "outputs": [],
   "source": [
    "# Example 6 (Taking Square of Numbers from 0 to 4)\n",
    "# taking square of no.s from 0 to 4\n",
    "for i in range(4):\n",
    "    print(i**2)"
   ]
  },
  {
   "cell_type": "code",
   "execution_count": 5,
   "id": "c49156e0",
   "metadata": {},
   "outputs": [
    {
     "ename": "SyntaxError",
     "evalue": "invalid syntax (<ipython-input-5-02813c3859c4>, line 8)",
     "output_type": "error",
     "traceback": [
      "\u001b[1;36m  File \u001b[1;32m\"<ipython-input-5-02813c3859c4>\"\u001b[1;36m, line \u001b[1;32m8\u001b[0m\n\u001b[1;33m    table(number)\u001b[0m\n\u001b[1;37m    ^\u001b[0m\n\u001b[1;31mSyntaxError\u001b[0m\u001b[1;31m:\u001b[0m invalid syntax\n"
     ]
    }
   ],
   "source": [
    "# this programs calculate the table of a given number\n",
    "  \n",
    "def table(num):\n",
    "    for i in range(10):\n",
    "        print(number,\" * \", i , \" = \",number*i)\n",
    "          \n",
    "   \n",
    "table(number)\n",
    "    \n",
    "    \n",
    "    "
   ]
  },
  {
   "cell_type": "code",
   "execution_count": 6,
   "id": "3cb440e8",
   "metadata": {},
   "outputs": [
    {
     "name": "stdout",
     "output_type": "stream",
     "text": [
      "0\n",
      "1\n",
      "2\n",
      "3\n",
      "4\n",
      "5\n",
      "6\n",
      "7\n",
      "8\n",
      "9\n"
     ]
    }
   ],
   "source": [
    "for i in range(10):\n",
    "    print(i)"
   ]
  },
  {
   "cell_type": "code",
   "execution_count": 8,
   "id": "69024ce6",
   "metadata": {},
   "outputs": [
    {
     "ename": "SyntaxError",
     "evalue": "invalid syntax (<ipython-input-8-847749933ee3>, line 2)",
     "output_type": "error",
     "traceback": [
      "\u001b[1;36m  File \u001b[1;32m\"<ipython-input-8-847749933ee3>\"\u001b[1;36m, line \u001b[1;32m2\u001b[0m\n\u001b[1;33m    for i in range(10):\u001b[0m\n\u001b[1;37m                      ^\u001b[0m\n\u001b[1;31mSyntaxError\u001b[0m\u001b[1;31m:\u001b[0m invalid syntax\n"
     ]
    }
   ],
   "source": []
  },
  {
   "cell_type": "code",
   "execution_count": null,
   "id": "869c7f04",
   "metadata": {},
   "outputs": [],
   "source": []
  },
  {
   "cell_type": "code",
   "execution_count": null,
   "id": "15b60a45",
   "metadata": {},
   "outputs": [],
   "source": [
    "number = int(input(\"enter number\"))\n",
    "n = 1\n",
    "while n<=10:\n",
    "    print(number,\" * \", n , \" = \",number*n)\n",
    "    n+=1"
   ]
  },
  {
   "cell_type": "code",
   "execution_count": null,
   "id": "91605ca8",
   "metadata": {},
   "outputs": [],
   "source": [
    "\"\"\"least commom multiple\n",
    "common\n",
    "\n",
    "min \n",
    "\n",
    "\n",
    "\"\"\""
   ]
  }
 ],
 "metadata": {
  "kernelspec": {
   "display_name": "Python 3",
   "language": "python",
   "name": "python3"
  },
  "language_info": {
   "codemirror_mode": {
    "name": "ipython",
    "version": 3
   },
   "file_extension": ".py",
   "mimetype": "text/x-python",
   "name": "python",
   "nbconvert_exporter": "python",
   "pygments_lexer": "ipython3",
   "version": "3.8.8"
  }
 },
 "nbformat": 4,
 "nbformat_minor": 5
}
