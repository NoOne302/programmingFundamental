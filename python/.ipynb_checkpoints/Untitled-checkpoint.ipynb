{
 "cells": [
  {
   "cell_type": "code",
   "execution_count": 1,
   "id": "411ef833",
   "metadata": {},
   "outputs": [
    {
     "name": "stdout",
     "output_type": "stream",
     "text": [
      "Your radius should be a \"number\"\n",
      "enter radius: 4\n",
      "area is : 50.26548245743669\n",
      "circumference is: 25.132741228718345\n"
     ]
    }
   ],
   "source": [
    "from math import pi\n",
    "\n",
    "print('Your radius should be a \"number\"')\n",
    "radius = float(input('enter radius: '));\n",
    "\n",
    "def calculator():\n",
    "    \n",
    "    area = pi * pow(radius,2);\n",
    "    circumference = 2 * pi * radius;\n",
    "    \n",
    "    print('area is :',area)\n",
    "    print('circumference is:',circumference)\n",
    "calculator()"
   ]
  },
  {
   "cell_type": "code",
   "execution_count": null,
   "id": "5c2089af",
   "metadata": {},
   "outputs": [],
   "source": []
  },
  {
   "cell_type": "code",
   "execution_count": 2,
   "id": "1d66dcd0",
   "metadata": {},
   "outputs": [
    {
     "name": "stdout",
     "output_type": "stream",
     "text": [
      "Your length should be a \"number\"\n",
      "enter length: 4.5\n",
      "area is: 20.25\n",
      "parameter: 18.0\n"
     ]
    }
   ],
   "source": [
    "print('Your length should be a \"number\"');\n",
    "length = float(input('enter length: '));\n",
    "             \n",
    "area = pow(length,2);\n",
    "parameter = 4*(length);\n",
    "\n",
    "print(\"area is:\", area)\n",
    "print('parameter:', parameter)\n",
    "             "
   ]
  },
  {
   "cell_type": "code",
   "execution_count": 3,
   "id": "041d8fa8",
   "metadata": {},
   "outputs": [
    {
     "name": "stdout",
     "output_type": "stream",
     "text": [
      "give two numbers. first for length and second for width \n",
      "area is: 15\n",
      "parameter: 30\n"
     ]
    }
   ],
   "source": [
    "\n",
    "print('give two numbers. first for length and second for width ')\n",
    "def calculator(length,width):\n",
    "    area = length * width;\n",
    "    parameter = 2*(length * width)\n",
    "    \n",
    "    print(\"area is:\", area)\n",
    "    print('parameter:', parameter)\n",
    "    \n",
    "answer = calculator(3, 5) \n",
    "    \n"
   ]
  },
  {
   "cell_type": "code",
   "execution_count": null,
   "id": "25903751",
   "metadata": {},
   "outputs": [],
   "source": []
  },
  {
   "cell_type": "code",
   "execution_count": null,
   "id": "dd66b163",
   "metadata": {},
   "outputs": [],
   "source": []
  }
 ],
 "metadata": {
  "kernelspec": {
   "display_name": "Python 3",
   "language": "python",
   "name": "python3"
  },
  "language_info": {
   "codemirror_mode": {
    "name": "ipython",
    "version": 3
   },
   "file_extension": ".py",
   "mimetype": "text/x-python",
   "name": "python",
   "nbconvert_exporter": "python",
   "pygments_lexer": "ipython3",
   "version": "3.8.8"
  }
 },
 "nbformat": 4,
 "nbformat_minor": 5
}
