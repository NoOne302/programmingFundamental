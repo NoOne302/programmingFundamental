{
 "cells": [
  {
   "cell_type": "code",
   "execution_count": 4,
   "id": "13fa4e2e",
   "metadata": {},
   "outputs": [
    {
     "name": "stdout",
     "output_type": "stream",
     "text": [
      "enter name of student1:aixax\n",
      "Enter score1:89\n",
      "Enter score2:98\n",
      "Enter score3:78\n",
      "Name: aixax\n",
      "Average:  88.33\n",
      "enter name of student2:faixan\n",
      "Enter score1:37\n",
      "Enter score2:90\n",
      "Enter score3:89\n",
      "Name: faixan\n",
      "Average:  72.0\n",
      "enter name of student3:soma\n",
      "Enter score1:45\n",
      "Enter score2:76\n",
      "Enter score3:78\n",
      "Name: soma\n",
      "Average:  66.33\n"
     ]
    }
   ],
   "source": [
    "# this programs calculate the average numbers for a student \n",
    "counter = 1\n",
    "Counter = 1\n",
    "for i in range(3):\n",
    "    Sum = 0    \n",
    "    sName = input('enter name of student{}:'.format(counter))\n",
    "    for j in range(3):       \n",
    "        score = int(input('Enter score{}:'.format(Counter)))\n",
    "        Counter+=1\n",
    "        Sum += score\n",
    "    print('Name:',sName)\n",
    "    print('Average: ',round(Sum/3,2))\n",
    "    Counter=1\n",
    "    counter+=1\n"
   ]
  },
  {
   "cell_type": "code",
   "execution_count": 1,
   "id": "92e6cde6",
   "metadata": {},
   "outputs": [
    {
     "name": "stdout",
     "output_type": "stream",
     "text": [
      "enter number5\n",
      "*\n",
      "**\n",
      "***\n",
      "****\n",
      "*****\n"
     ]
    }
   ],
   "source": [
    "# this program give us a triangle\n",
    "num = int(input('enter number'))\n",
    "for i in range(num):\n",
    "    for j in range(i+1):\n",
    "        print('*',end=\"\")\n",
    "    print()"
   ]
  },
  {
   "cell_type": "code",
   "execution_count": 119,
   "id": "6160002b",
   "metadata": {},
   "outputs": [
    {
     "name": "stdout",
     "output_type": "stream",
     "text": [
      "enter number4\n",
      "****\n",
      "***\n",
      "**\n",
      "*\n"
     ]
    }
   ],
   "source": [
    "num = int(input('enter number'))\n",
    "for i in range(num,0,-1):\n",
    "    for j in range(i):\n",
    "        print('*',end=\"\")\n",
    "    print()"
   ]
  },
  {
   "cell_type": "code",
   "execution_count": 114,
   "id": "73a6d447",
   "metadata": {},
   "outputs": [
    {
     "name": "stdout",
     "output_type": "stream",
     "text": [
      "enter number5\n",
      "*****\n",
      " ****\n",
      "  ***\n",
      "   **\n",
      "    *\n"
     ]
    }
   ],
   "source": [
    "num = int(input('enter number'))\n",
    "for i in range(0,num):\n",
    "    for j in range(i):\n",
    "        print(' ',end=\"\")\n",
    "    for k in range(num,i,-1):\n",
    "        print('*',end='')\n",
    "    print()        "
   ]
  },
  {
   "cell_type": "markdown",
   "id": "d7b08570",
   "metadata": {},
   "source": [
    "### "
   ]
  },
  {
   "cell_type": "code",
   "execution_count": 154,
   "id": "e05f6420",
   "metadata": {},
   "outputs": [
    {
     "name": "stdout",
     "output_type": "stream",
     "text": [
      "enter number5\n",
      "     *\n",
      "    **\n",
      "   ***\n",
      "  ****\n",
      " *****\n"
     ]
    }
   ],
   "source": [
    "num = int(input('enter number'))\n",
    "for i in range(num,0,-1):\n",
    "    for j in range(i):\n",
    "        print(' ',end=\"\")\n",
    "    for k in range(i,num+1):\n",
    "        print('*',end='')\n",
    "    print()"
   ]
  },
  {
   "cell_type": "code",
   "execution_count": 2,
   "id": "09f53ff0",
   "metadata": {},
   "outputs": [
    {
     "name": "stdout",
     "output_type": "stream",
     "text": [
      "enter your desire symbol%\n",
      "enter number4\n",
      "%\n",
      "%%\n",
      "%%%\n",
      "%%%%\n",
      "%%%%%\n",
      "%%%%\n",
      "%%%\n",
      "%%\n",
      "%\n"
     ]
    }
   ],
   "source": [
    "# this programs builds a piramid for user using desire symbols\n",
    "symbol = input(\"enter your desire symbol\")\n",
    "num = int(input('enter number'))\n",
    "for i in range(num+1):\n",
    "    for j in range(i+1):\n",
    "        print(symbol,end=\"\")\n",
    "    print()\n",
    "for i in range(num,0,-1):\n",
    "    for j in range(i):\n",
    "        print(symbol,end=\"\")\n",
    "    print()\n"
   ]
  },
  {
   "cell_type": "code",
   "execution_count": 130,
   "id": "3f23e886",
   "metadata": {},
   "outputs": [
    {
     "name": "stdout",
     "output_type": "stream",
     "text": [
      "enter number5\n",
      "     *******\n",
      "    *******\n",
      "   *******\n",
      "  *******\n",
      " *******\n"
     ]
    }
   ],
   "source": [
    "num = int(input('enter number'))\n",
    "for i in range(num,0,-1):\n",
    "    for j in range(i):\n",
    "        print(' ',end=\"\")\n",
    "    for k in range(i,num+1):\n",
    "        print('*',end='')\n",
    "# for i in range(num):\n",
    "    for l in range(i+1):\n",
    "        print('*',end=\"\")\n",
    "    print()"
   ]
  },
  {
   "cell_type": "code",
   "execution_count": 5,
   "id": "d85da240",
   "metadata": {},
   "outputs": [
    {
     "name": "stdout",
     "output_type": "stream",
     "text": [
      "enter number of rows:5\n",
      "enter symbol:#\n",
      "     #\n",
      "    ###\n",
      "   #####\n",
      "  #######\n",
      " #########\n"
     ]
    }
   ],
   "source": [
    "# this programs build a piramid for user\n",
    "num = int(input('enter number of rows:'))\n",
    "symbol = input('enter symbol:')\n",
    "for i in range(num,0,-1):\n",
    "    for j in range(i):\n",
    "        print(' ',end=\"\")\n",
    "    for k in range(i,num+1):\n",
    "        print(symbol,end='')\n",
    "# for i in range(num):\n",
    "    for l in range(i,num):\n",
    "        print(symbol,end=\"\")    \n",
    "    print()"
   ]
  },
  {
   "cell_type": "code",
   "execution_count": 149,
   "id": "36809503",
   "metadata": {},
   "outputs": [
    {
     "name": "stdout",
     "output_type": "stream",
     "text": [
      "enter number6\n",
      "      *\n",
      "     ***\n",
      "    *****\n",
      "   *******\n",
      "  *********\n",
      " ***********\n",
      "*************\n",
      " ***********\n",
      "  *********\n",
      "   *******\n",
      "    *****\n",
      "     ***\n",
      "      *\n"
     ]
    }
   ],
   "source": [
    "num = int(input('enter number'))\n",
    "symbol = input('enter symbol:')\n",
    "for i in range(num,0,-1):\n",
    "    for j in range(i):\n",
    "        print(' ',end=\"\")\n",
    "    for k in range(i,num+1):\n",
    "        print(symbol,end='')\n",
    "# for i in range(num):\n",
    "    for l in range(i,num):\n",
    "        print(symbol,end=\"\")\n",
    "    print()\n",
    "for i in range(num+1):\n",
    "    for j in range(i):\n",
    "        print(' ',end=\"\")\n",
    "    for k in range(num,i,-1):\n",
    "        print(symbol,end='')\n",
    "    for l in range(i,num+1):\n",
    "        print(symbol,end=\"\")\n",
    "    print()"
   ]
  },
  {
   "cell_type": "code",
   "execution_count": null,
   "id": "e879bc69",
   "metadata": {},
   "outputs": [],
   "source": []
  }
 ],
 "metadata": {
  "kernelspec": {
   "display_name": "Python 3",
   "language": "python",
   "name": "python3"
  },
  "language_info": {
   "codemirror_mode": {
    "name": "ipython",
    "version": 3
   },
   "file_extension": ".py",
   "mimetype": "text/x-python",
   "name": "python",
   "nbconvert_exporter": "python",
   "pygments_lexer": "ipython3",
   "version": "3.8.8"
  }
 },
 "nbformat": 4,
 "nbformat_minor": 5
}
