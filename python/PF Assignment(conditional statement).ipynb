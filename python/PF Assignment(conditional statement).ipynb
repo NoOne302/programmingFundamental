{
 "cells": [
  {
   "cell_type": "code",
   "execution_count": 7,
   "id": "b9b1ee06",
   "metadata": {},
   "outputs": [
    {
     "name": "stdout",
     "output_type": "stream",
     "text": [
      "enter the base of triangle:\n",
      "enter the perpendicular of triangle:\n"
     ]
    },
    {
     "ename": "TypeError",
     "evalue": "unsupported operand type(s) for ** or pow(): 'str' and 'int'",
     "output_type": "error",
     "traceback": [
      "\u001b[1;31m---------------------------------------------------------------------------\u001b[0m",
      "\u001b[1;31mTypeError\u001b[0m                                 Traceback (most recent call last)",
      "\u001b[1;32m<ipython-input-7-f73c2b6aa480>\u001b[0m in \u001b[0;36m<module>\u001b[1;34m\u001b[0m\n\u001b[0;32m      7\u001b[0m     \u001b[0mresult\u001b[0m\u001b[1;33m=\u001b[0m \u001b[0msqrt\u001b[0m\u001b[1;33m(\u001b[0m\u001b[1;33m(\u001b[0m\u001b[0mside1\u001b[0m\u001b[1;33m**\u001b[0m\u001b[1;36m2\u001b[0m\u001b[1;33m)\u001b[0m\u001b[1;33m+\u001b[0m\u001b[1;33m(\u001b[0m\u001b[0mside2\u001b[0m\u001b[1;33m**\u001b[0m\u001b[1;36m2\u001b[0m\u001b[1;33m)\u001b[0m\u001b[1;33m)\u001b[0m\u001b[1;33m\u001b[0m\u001b[1;33m\u001b[0m\u001b[0m\n\u001b[0;32m      8\u001b[0m     \u001b[1;32mreturn\u001b[0m \u001b[0mresult\u001b[0m\u001b[1;33m\u001b[0m\u001b[1;33m\u001b[0m\u001b[0m\n\u001b[1;32m----> 9\u001b[1;33m \u001b[0manswer\u001b[0m \u001b[1;33m=\u001b[0m \u001b[0mhypo\u001b[0m\u001b[1;33m(\u001b[0m\u001b[0mbase\u001b[0m\u001b[1;33m,\u001b[0m\u001b[0mperpend\u001b[0m\u001b[1;33m)\u001b[0m\u001b[1;33m\u001b[0m\u001b[1;33m\u001b[0m\u001b[0m\n\u001b[0m\u001b[0;32m     10\u001b[0m \u001b[0mprint\u001b[0m\u001b[1;33m(\u001b[0m\u001b[0manswer\u001b[0m\u001b[1;33m,\u001b[0m\u001b[1;34m\"is the hypotenuse of given triangle.\"\u001b[0m\u001b[1;33m)\u001b[0m\u001b[1;33m\u001b[0m\u001b[1;33m\u001b[0m\u001b[0m\n",
      "\u001b[1;32m<ipython-input-7-f73c2b6aa480>\u001b[0m in \u001b[0;36mhypo\u001b[1;34m(side1, side2)\u001b[0m\n\u001b[0;32m      5\u001b[0m \u001b[1;32mdef\u001b[0m \u001b[0mhypo\u001b[0m\u001b[1;33m(\u001b[0m\u001b[0mside1\u001b[0m\u001b[1;33m=\u001b[0m\u001b[1;36m1\u001b[0m\u001b[1;33m,\u001b[0m \u001b[0mside2\u001b[0m\u001b[1;33m=\u001b[0m\u001b[1;36m1\u001b[0m\u001b[1;33m)\u001b[0m\u001b[1;33m:\u001b[0m\u001b[1;33m\u001b[0m\u001b[1;33m\u001b[0m\u001b[0m\n\u001b[0;32m      6\u001b[0m \u001b[1;31m#     calculates the hypotenuse\u001b[0m\u001b[1;33m\u001b[0m\u001b[1;33m\u001b[0m\u001b[1;33m\u001b[0m\u001b[0m\n\u001b[1;32m----> 7\u001b[1;33m     \u001b[0mresult\u001b[0m\u001b[1;33m=\u001b[0m \u001b[0msqrt\u001b[0m\u001b[1;33m(\u001b[0m\u001b[1;33m(\u001b[0m\u001b[0mside1\u001b[0m\u001b[1;33m**\u001b[0m\u001b[1;36m2\u001b[0m\u001b[1;33m)\u001b[0m\u001b[1;33m+\u001b[0m\u001b[1;33m(\u001b[0m\u001b[0mside2\u001b[0m\u001b[1;33m**\u001b[0m\u001b[1;36m2\u001b[0m\u001b[1;33m)\u001b[0m\u001b[1;33m)\u001b[0m\u001b[1;33m\u001b[0m\u001b[1;33m\u001b[0m\u001b[0m\n\u001b[0m\u001b[0;32m      8\u001b[0m     \u001b[1;32mreturn\u001b[0m \u001b[0mresult\u001b[0m\u001b[1;33m\u001b[0m\u001b[1;33m\u001b[0m\u001b[0m\n\u001b[0;32m      9\u001b[0m \u001b[0manswer\u001b[0m \u001b[1;33m=\u001b[0m \u001b[0mhypo\u001b[0m\u001b[1;33m(\u001b[0m\u001b[0mbase\u001b[0m\u001b[1;33m,\u001b[0m\u001b[0mperpend\u001b[0m\u001b[1;33m)\u001b[0m\u001b[1;33m\u001b[0m\u001b[1;33m\u001b[0m\u001b[0m\n",
      "\u001b[1;31mTypeError\u001b[0m: unsupported operand type(s) for ** or pow(): 'str' and 'int'"
     ]
    }
   ],
   "source": [
    "from math import sqrt\n",
    "# this function calculate the hypotenuse.\n",
    "base = int(input(\"enter the base of triangle:\"))\n",
    "perpend = int(input(\"enter the perpendicular of triangle:\"))\n",
    "def hypo(side1=1, side2=1):\n",
    "#     calculates the hypotenuse\n",
    "    result= sqrt((side1**2)+(side2**2))\n",
    "    return result\n",
    "answer = hypo(base,perpend)\n",
    "print(answer,\"is the hypotenuse of given triangle.\")"
   ]
  },
  {
   "cell_type": "code",
   "execution_count": 47,
   "id": "0738ed08",
   "metadata": {},
   "outputs": [
    {
     "name": "stdout",
     "output_type": "stream",
     "text": [
      "enter the year that you want to check:1970\n",
      "Sorry, this is not a leap year\n"
     ]
    }
   ],
   "source": [
    "# this programme checks whether the given year is a leap year or not\n",
    "year = int(input('enter the year that you want to check:'))\n",
    "def isLeap(year):\n",
    "    if year % 4 ==0 and year % 100 != 0:\n",
    "        print(\"This is a leap year\")\n",
    "    elif year % 100 ==0 and year % 400 == 0:\n",
    "        print(\"This is a leap year\")\n",
    "    else:\n",
    "        print(\"Sorry, this is not a leap year\")\n",
    "\n",
    "ans = isLeap(year)\n",
    "  "
   ]
  },
  {
   "cell_type": "code",
   "execution_count": 45,
   "id": "70c45990",
   "metadata": {},
   "outputs": [
    {
     "name": "stdout",
     "output_type": "stream",
     "text": [
      "433 is greatest odd number\n"
     ]
    }
   ],
   "source": [
    "# this programme give us the largest odd number\n",
    "# this takes three arguments and return us the largest odd number\n",
    "def largest_odd(x,y,z):\n",
    "    if (x % 2 and y % 2 and z % 2) != 0:\n",
    "        print(max(x,y,z),\"is greatest odd number\")\n",
    "    elif (x % 2 and y % 2) != 0 and z % 2 == 0:\n",
    "        print(max(x,y),'is greatest odd number')\n",
    "    elif (x % 2 and z % 2) != 0 and y % 2 == 0:\n",
    "        print(max(x,z),'is greatest odd number')\n",
    "    elif (y % 2 and z % 2) != 0 and x % 2 == 0:\n",
    "        print(max(y,z),'is greatest odd number')    \n",
    "    elif (x % 2 and y % 2) == 0 and z % 2 != 0:\n",
    "        print(z,'is greatest odd number')\n",
    "    elif(x % 2 and z % 2) == 0 and y % 2 != 0:\n",
    "        print(y,'is greatest odd number')\n",
    "    elif(z % 2  and y % 2) == 0 and x % 2 != 0 :\n",
    "        print(x,'is greatest odd number')\n",
    "    else:\n",
    "        print(\"none of them are odd\")\n",
    "\n",
    "largest_odd(111110,11110,433)"
   ]
  },
  {
   "cell_type": "code",
   "execution_count": null,
   "id": "f060819b",
   "metadata": {},
   "outputs": [],
   "source": []
  },
  {
   "cell_type": "code",
   "execution_count": 2,
   "id": "1399d91f",
   "metadata": {},
   "outputs": [
    {
     "name": "stdout",
     "output_type": "stream",
     "text": [
      "Enter the grade of first subject: A\n",
      "Enter the credit hours of First subject: 3\n",
      "Enter the grade of second subject: b\n",
      "Enter the credit hours of Second subject: 34\n",
      "Enter the grade of third subject: B\n",
      "Enter the credit hours of Third subject: 3\n",
      "correct\n"
     ]
    }
   ],
   "source": [
    "# the programs gives us the gpa of a student\n",
    "sub_1 = input('Enter the grade of first subject: ')\n",
    "gpa_1 = float(input(\"Enter the credit hours of First subject: \"))\n",
    "sub_2 = input('Enter the grade of second subject: ')\n",
    "gpa_2 = float(input(\"Enter the credit hours of Second subject: \"))\n",
    "sub_3 = input('Enter the grade of third subject: ')\n",
    "gpa_3 = float(input(\"Enter the credit hours of Third subject: \"))\n",
    "\n",
    "if sub_1 or sub_2 or sub_3 in 'A':\n",
    "    print('correct')\n",
    "elif sub_1 or sub_2 or sub_3 in 'A-':\n",
    "    print('correct')\n",
    "elif sub_1 or sub_2 or sub_3 in 'B+':\n",
    "    print('correct')\n",
    "elif sub_1 or sub_2 or sub_3 in 'B':\n",
    "    print('correct')\n",
    "elif sub_1 or sub_2 or sub_3 in 'B-':\n",
    "    print('correct')\n",
    "elif sub_1 or sub_2 or sub_3 in 'C+':\n",
    "    print('correct')\n",
    "elif sub_1 or sub_2 or sub_3 in 'C':\n",
    "    print('correct')\n",
    "elif sub_1 or sub_2 or sub_3 in 'C-':\n",
    "    print('correct')\n",
    "elif sub_1 or sub_2 or sub_3 in 'D+':\n",
    "    print('correct')\n",
    "elif sub_1 or sub_2 or sub_3 in 'D':\n",
    "    print('correct')\n",
    "elif sub_1 or sub_2 or sub_3 in 'F':\n",
    "    print('correct')"
   ]
  },
  {
   "cell_type": "code",
   "execution_count": null,
   "id": "ac8ddd5a",
   "metadata": {},
   "outputs": [],
   "source": []
  }
 ],
 "metadata": {
  "kernelspec": {
   "display_name": "Python 3",
   "language": "python",
   "name": "python3"
  },
  "language_info": {
   "codemirror_mode": {
    "name": "ipython",
    "version": 3
   },
   "file_extension": ".py",
   "mimetype": "text/x-python",
   "name": "python",
   "nbconvert_exporter": "python",
   "pygments_lexer": "ipython3",
   "version": "3.8.8"
  }
 },
 "nbformat": 4,
 "nbformat_minor": 5
}
