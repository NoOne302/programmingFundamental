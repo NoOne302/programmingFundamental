{
 "cells": [
  {
   "cell_type": "code",
   "execution_count": null,
   "id": "e728a5ca",
   "metadata": {},
   "outputs": [],
   "source": [
    "print()"
   ]
  },
  {
   "cell_type": "code",
   "execution_count": null,
   "id": "ba2439ea",
   "metadata": {},
   "outputs": [],
   "source": [
    "print(str(multiply(10,100)))\n"
   ]
  },
  {
   "cell_type": "code",
   "execution_count": null,
   "id": "2bcbebd6",
   "metadata": {},
   "outputs": [],
   "source": [
    "# Write a function that converts meters [pass as argument] to centimeters and returns the resulting value.\n",
    "def meter_to_centi(meter):\n",
    "    centi = meter * 100\n",
    "    return centi\n",
    "result = meter_to_centi(423)\n",
    "print(result,\"cm\")"
   ]
  },
  {
   "cell_type": "code",
   "execution_count": null,
   "id": "2b4c4718",
   "metadata": {},
   "outputs": [],
   "source": [
    "def multiply(x, y, third_number=1, my_msg= \"\"):\n",
    "\n",
    "    \"\"\"Multiply two or three numbers and print the result.\"\"\"\n",
    "    result=x*y*third_number\n",
    "    return result\n",
    "result = multiply(23, 43)\n",
    "print(result)"
   ]
  },
  {
   "cell_type": "code",
   "execution_count": null,
   "id": "b7fe7beb",
   "metadata": {},
   "outputs": [],
   "source": [
    "def happy_birthday_to_you():\n",
    "    # your code here\n",
    "    return (\"Happy Birthday to you\")\n",
    "\n",
    "# original function - replace the print statements by the happy_birthday_to_you() function:\n",
    "def happy_birthday(name): \n",
    "    \"\"\"\n",
    "    Print a birthday song with the \"name\" of the person inserted.\n",
    "    \n",
    "    \"\"\"\n",
    "    print(happy_birthday_to_you(),name)\n",
    "#     print(\"Happy Birthday to you!\")\n",
    "#     print(\"Happy Birthday to you!\")\n",
    "#     print(\"Happy Birthday, dear \" + name + \".\")\n",
    "#     print(\"Happy Birthday to you!\")\n",
    "\n",
    "happy_birthday(\"sheryar\")\n"
   ]
  },
  {
   "cell_type": "code",
   "execution_count": null,
   "id": "90dbe11a",
   "metadata": {},
   "outputs": [],
   "source": [
    "yes = print('helo world')"
   ]
  },
  {
   "cell_type": "code",
   "execution_count": null,
   "id": "20dfa88c",
   "metadata": {},
   "outputs": [],
   "source": [
    "print(yes)"
   ]
  },
  {
   "cell_type": "code",
   "execution_count": null,
   "id": "12d2dc3a",
   "metadata": {},
   "outputs": [],
   "source": [
    "print(yes)"
   ]
  },
  {
   "cell_type": "code",
   "execution_count": null,
   "id": "a6454732",
   "metadata": {},
   "outputs": [],
   "source": [
    "print("
   ]
  },
  {
   "cell_type": "code",
   "execution_count": null,
   "id": "6caf0117",
   "metadata": {},
   "outputs": [],
   "source": [
    "a = 6\n",
    "\n",
    "if a > 0 :\n",
    "    print('greater then zero')\n",
    "elif a== 6:\n",
    "    print('equals to six')\n",
    "elif a < 10:\n",
    "    print('less than ten')\n",
    "else:\n",
    "    print('do not match any of the quality')"
   ]
  },
  {
   "cell_type": "code",
   "execution_count": null,
   "id": "19a4dd3f",
   "metadata": {},
   "outputs": [],
   "source": [
    "x = -2.0\n",
    "if x < 2 :\n",
    "    print('Below 2')\n",
    "elif x >= 2 :\n",
    "     print('Two or more')\n",
    "else :\n",
    "    print('Something else')"
   ]
  },
  {
   "cell_type": "code",
   "execution_count": null,
   "id": "07880273",
   "metadata": {},
   "outputs": [],
   "source": [
    "astr = 'Hello Bob'\n",
    "istr = 0\n",
    "try:\n",
    "    istr = int(astr)\n",
    "except:\n",
    "    istr = -1\n",
    "\n",
    "print(istr)"
   ]
  },
  {
   "cell_type": "code",
   "execution_count": null,
   "id": "054546da",
   "metadata": {},
   "outputs": [],
   "source": [
    "hrs = input(\"Enter Hours:\")\n",
    "rate = input(\"enter rate per hour:\")\n",
    "h = float(hrs)\n",
    "r = float(rate)\n",
    "\n",
    "if h > 40:\n",
    "    gros = h * r  \n",
    "   \n",
    "    new = (h-40) *r*0.5\n",
    "    print(new)\n",
    "else:\n",
    "    gros = h * r\n",
    "    print(gros)\n"
   ]
  },
  {
   "cell_type": "code",
   "execution_count": null,
   "id": "34e90646",
   "metadata": {},
   "outputs": [],
   "source": [
    "498.75 - 472.5"
   ]
  },
  {
   "cell_type": "code",
   "execution_count": null,
   "id": "44f6ce85",
   "metadata": {},
   "outputs": [],
   "source": [
    "score = input(\"Enter Score: \")\n",
    "Score = float(score)\n",
    "\n",
    "if 1.0> Score> 0.0:\n",
    "    if 1.0> Score >= 0.9:\n",
    "        print(\"A\")\n",
    "    elif 1.0> Score>= 0.8:\n",
    "        print(\"B\")\n",
    "    elif 1.0>Score>=0.7:\n",
    "        print(\"C\")\n",
    "    elif 1.0> Score >=0.6:\n",
    "        print(\"D\")\n",
    "    elif Score < 0.6:\n",
    "        print(\"F\")\n",
    "else:\n",
    "    print(\"please enter correct Value\")"
   ]
  },
  {
   "cell_type": "code",
   "execution_count": null,
   "id": "5ccacf41",
   "metadata": {},
   "outputs": [],
   "source": [
    "\n",
    "def calculator(num1, num2, num3 = 1):\n",
    "    add = num1 + num2\n",
    "    sub = num1 - num2\n",
    "    mul = num1 * num2\n",
    "    div = num1 / num2\n",
    "    flor = num1 // num2\n",
    "    mod = num1 % num2\n",
    "    sqr = num1 ** num2\n",
    "    \n",
    "    return add, sub , mul, div, flor, mod, sqr\n",
    "\n",
    "add, sub , mul, div, flor, mod, sqr  = calculator(2, 4)"
   ]
  },
  {
   "cell_type": "code",
   "execution_count": null,
   "id": "80ed0c13",
   "metadata": {},
   "outputs": [],
   "source": [
    "print(add)"
   ]
  },
  {
   "cell_type": "code",
   "execution_count": null,
   "id": "88a69e6b",
   "metadata": {},
   "outputs": [],
   "source": [
    "print(sub)"
   ]
  },
  {
   "cell_type": "code",
   "execution_count": null,
   "id": "01bae900",
   "metadata": {},
   "outputs": [],
   "source": [
    "print(calculator(3, 5))"
   ]
  },
  {
   "cell_type": "code",
   "execution_count": null,
   "id": "1aa6639b",
   "metadata": {},
   "outputs": [],
   "source": [
    "x,v,x = \"var\""
   ]
  },
  {
   "cell_type": "code",
   "execution_count": null,
   "id": "c71fece0",
   "metadata": {},
   "outputs": [],
   "source": []
  },
  {
   "cell_type": "code",
   "execution_count": null,
   "id": "17b46966",
   "metadata": {},
   "outputs": [],
   "source": [
    "print(v)"
   ]
  },
  {
   "cell_type": "code",
   "execution_count": null,
   "id": "d8028601",
   "metadata": {},
   "outputs": [],
   "source": [
    "c=v=vx=\"car\""
   ]
  },
  {
   "cell_type": "code",
   "execution_count": null,
   "id": "e5640ebe",
   "metadata": {},
   "outputs": [],
   "source": [
    "v"
   ]
  },
  {
   "cell_type": "code",
   "execution_count": null,
   "id": "e99e7291",
   "metadata": {},
   "outputs": [],
   "source": [
    "c = 3\n",
    "complex(c,6)"
   ]
  },
  {
   "cell_type": "code",
   "execution_count": null,
   "id": "1be5f625",
   "metadata": {},
   "outputs": [],
   "source": [
    "txt = 'hello are you thee how are you man are you good'\n",
    "if \"expensi\" not in txt:\n",
    "    print('yes this is present is your text')\n",
    "else:\n",
    "    print('soory this is not there')"
   ]
  },
  {
   "cell_type": "code",
   "execution_count": null,
   "id": "1144e6d8",
   "metadata": {},
   "outputs": [],
   "source": [
    "print(bool(\"abc\"))"
   ]
  },
  {
   "cell_type": "code",
   "execution_count": null,
   "id": "58a58086",
   "metadata": {},
   "outputs": [],
   "source": [
    "print(bool(23))"
   ]
  },
  {
   "cell_type": "code",
   "execution_count": null,
   "id": "2542b3c0",
   "metadata": {},
   "outputs": [],
   "source": [
    "def game(option):\n",
    "    if option == \"left\" or 'Left':\n",
    "        "
   ]
  },
  {
   "cell_type": "code",
   "execution_count": null,
   "id": "0c5cb346",
   "metadata": {},
   "outputs": [],
   "source": [
    "n = 7\n",
    "while n > 0:\n",
    "    print(n)\n",
    "    n=n-1\n",
    "    \n",
    "print('finish')\n",
    "print(n)"
   ]
  },
  {
   "cell_type": "code",
   "execution_count": null,
   "id": "60aeaf68",
   "metadata": {},
   "outputs": [],
   "source": [
    "while True:\n",
    "    \n",
    "    line = input(\"> \")\n",
    "    if line[0] == '#':\n",
    "        continue\n",
    "        print('continue')\n",
    "    elif line == \"done\":\n",
    "        \n",
    "        break\n",
    "    print(line)\n",
    "print(\"doneeee\")"
   ]
  },
  {
   "cell_type": "code",
   "execution_count": null,
   "id": "a20d4daa",
   "metadata": {},
   "outputs": [],
   "source": [
    "n = 1\n",
    "while 10 > n:\n",
    "    \n",
    "    n=n+1 \n",
    "    if n == 5:\n",
    "        print(\"this is at 5 this will not print we will jump to 6\")\n",
    "        continue\n",
    "    if n==8:\n",
    "        print('this reaches to 8 so its going to break')\n",
    "        break\n",
    "    print(n)\n",
    "    \n",
    "print('done')"
   ]
  },
  {
   "cell_type": "code",
   "execution_count": null,
   "id": "a661d9ad",
   "metadata": {},
   "outputs": [],
   "source": [
    "for i in [5,6,4,3,2,1,0]:\n",
    "    print(i)\n",
    "print(\"done\")"
   ]
  },
  {
   "cell_type": "code",
   "execution_count": null,
   "id": "ca3f5400",
   "metadata": {},
   "outputs": [],
   "source": [
    "friends = ['ali','nawaz','ayyan','haroon']\n",
    "for friend in friends:\n",
    "    print(\"happy birthday\",friend)\n",
    "print(\"done\")"
   ]
  },
  {
   "cell_type": "code",
   "execution_count": null,
   "id": "18066bd8",
   "metadata": {},
   "outputs": [],
   "source": [
    "def FirstReverse(strParam):\n",
    "\n",
    "\n",
    "    # code goes here \n",
    "    \n",
    "    strParam = strParam[::-1]\n",
    "  # code goes here\n",
    "    return strParam\n",
    "\n",
    "# keep this function call here \n",
    "print(FirstReverse(input()))\n"
   ]
  },
  {
   "cell_type": "code",
   "execution_count": null,
   "id": "d1f0f781",
   "metadata": {},
   "outputs": [],
   "source": [
    "\n",
    "def FirstFactorial(num):\n",
    "    \n",
    "  # code goes here\n",
    "    while 0 < int(num):\n",
    "        ans= num* (num-1)\n",
    "        num = num-1\n",
    "    \n",
    "    print(ans)\n",
    "        \n",
    "# keep this function call here \n",
    "print(FirstFactorial(int(input())))"
   ]
  },
  {
   "cell_type": "markdown",
   "id": "79ceeb65",
   "metadata": {},
   "source": [
    "### "
   ]
  },
  {
   "cell_type": "code",
   "execution_count": null,
   "id": "6db64b64",
   "metadata": {},
   "outputs": [],
   "source": [
    "num = 4\n",
    "while int(num) > 0:\n",
    "    rnum= num-1\n",
    "    \n",
    "    \n"
   ]
  },
  {
   "cell_type": "code",
   "execution_count": null,
   "id": "55656a07",
   "metadata": {},
   "outputs": [],
   "source": [
    "# this programme give us the largest odd number\n",
    "# this takes three arguments and return us the largest odd number\n",
    "def largest_odd(x,y,z):\n",
    "    if x % 2 and y % 2 and z % 2 != 0:\n",
    "        print(max(x,y,z),\"is greatest odd number\")\n",
    "    elif x % 2 and y % 2 != 0 and z % 2 == 0:\n",
    "        print(max(x,y),'is greatest odd number')\n",
    "    elif x % 2 and z % 2 != 0 and y % 2 == 0:\n",
    "        print(max(x,z),'is greatest odd number')\n",
    "    elif y % 2 and z % 2 != 0 and x % 2 == 0:\n",
    "        print(max(y,z),'is greatest odd number')    \n",
    "    elif (x % 2 and y % 2) == 0 and z % 2 !=0:\n",
    "        print(z,'is greatest odd number')\n",
    "    elif(x % 2 and z % 2 == 0):\n",
    "        print(y,'is greatest odd number')\n",
    "    elif(z % 2 and y % 2 == 0) :\n",
    "        print(x,'is greatest odd number')\n",
    "    else:\n",
    "        print(\"none of them are odd\")\n",
    "\n",
    "largest_odd(1110,11190,43331)"
   ]
  },
  {
   "cell_type": "code",
   "execution_count": null,
   "id": "7de7ea02",
   "metadata": {},
   "outputs": [],
   "source": [
    "# the programs gives us the gpa of a student\n",
    "sub_1 = input('Enter the grade of first subject: ')\n",
    "cHour_1 = float(input(\"Enter the credit hours of First subject: \"))\n",
    "sub_2 = input('Enter the grade of second subject: ')\n",
    "cHour_2 = float(input(\"Enter the credit hours of Second subject: \"))\n",
    "sub_3 = input('Enter the grade of third subject: ')\n",
    "cHour_3 = float(input(\"Enter the credit hours of Third subject: \"))\n",
    "\n",
    "if sub_1 or sub_2 or sub_3 in 'A':\n",
    "    print('correct')\n",
    "elif sub_1 or sub_2 or sub_3 in 'A-':\n",
    "    print('correct')\n",
    "elif sub_1 or sub_2 or sub_3 in 'B+':\n",
    "    print('correct')\n",
    "elif sub_1 or sub_2 or sub_3 in 'B':\n",
    "    print('correct')\n",
    "elif sub_1 or sub_2 or sub_3 in 'B-':\n",
    "    print('correct')\n",
    "elif sub_1 or sub_2 or sub_3 in 'C+':\n",
    "    print('correct')\n",
    "elif sub_1 or sub_2 or sub_3 in 'C':\n",
    "    print('correct')\n",
    "elif sub_1 or sub_2 or sub_3 in 'C-':\n",
    "    print('correct')\n",
    "elif sub_1 or sub_2 or sub_3 in 'D+':\n",
    "    print('correct')\n",
    "elif sub_1 or sub_2 or sub_3 in 'D':\n",
    "    print('correct')\n",
    "elif sub_1 or sub_2 or sub_3 in 'F':\n",
    "    print('correct')"
   ]
  },
  {
   "cell_type": "code",
   "execution_count": 1,
   "id": "bf0a6e2c",
   "metadata": {},
   "outputs": [
    {
     "name": "stdout",
     "output_type": "stream",
     "text": [
      "Enter number3\n",
      "Enter number2\n",
      "Enter operands+\n",
      "you want to continue(y/N)?y\n",
      "Addition 5\n",
      "you want to continue(y/N)?n\n",
      "Enter number2\n",
      "Enter number3\n",
      "Enter operands4\n",
      "enter valid input\n",
      "you want to continue(y/N)?N\n",
      "Enter number3\n",
      "Enter number2\n",
      "Enter operands1\n"
     ]
    }
   ],
   "source": [
    "num1 = int(input(\"Enter number\"))\n",
    "num2 = int(input(\"Enter number\"))\n",
    "operation = input(\"Enter operands\")\n",
    "input_value = input(\"you want to continue(y/N)?\")\n",
    "input_value = input_value.upper()\n",
    "    \n",
    "while input_value!=\"N\":\n",
    "    if input_value == \"Y\":\n",
    "        if operation==\"+\":                             #Use if condition\n",
    "            num = num1+num2\n",
    "            print(\"Addition\",num)\n",
    "\n",
    "            #print addition\n",
    "        elif operation==\"-\":                           #use nested elif\n",
    "            num = num1-num2\n",
    "            print(\"subtraction\",num)\n",
    "\n",
    "        elif operation==\"*\":\n",
    "            num = num1*num2\n",
    "\n",
    "            print(\"Multiplication\",num)\n",
    "\n",
    "\n",
    "        elif operation==\"//\":\n",
    "            num = num1//num2\n",
    "            print(\"Floor operation\",num)\n",
    "\n",
    "\n",
    "        elif operation==\"%\":\n",
    "            num=num1%num2\n",
    "            print(\"Remainder operation\",num)\n",
    "\n",
    "\n",
    "        elif operation==\"**\":\n",
    "            num = num1**num2\n",
    "            print(\"Exponentail\",num)\n",
    "\n",
    "\n",
    "        elif operation==\"/\":\n",
    "            num = num1/num2\n",
    "            print(\"float\",num)        \n",
    "        \n",
    "        else:\n",
    "            print(\"End of code\")\n",
    "    else:\n",
    "        print('enter valid input')\n",
    "        \n",
    "    input_value = input(\"you want to continue(y/N)?\")\n",
    "    num1 = int(input(\"Enter number\"))\n",
    "    num2 = int(input(\"Enter number\"))\n",
    "    operation = input(\"Enter operands\")\n",
    "        "
   ]
  },
  {
   "cell_type": "code",
   "execution_count": null,
   "id": "c933c63f",
   "metadata": {},
   "outputs": [],
   "source": []
  }
 ],
 "metadata": {
  "kernelspec": {
   "display_name": "Python 3",
   "language": "python",
   "name": "python3"
  },
  "language_info": {
   "codemirror_mode": {
    "name": "ipython",
    "version": 3
   },
   "file_extension": ".py",
   "mimetype": "text/x-python",
   "name": "python",
   "nbconvert_exporter": "python",
   "pygments_lexer": "ipython3",
   "version": "3.8.8"
  }
 },
 "nbformat": 4,
 "nbformat_minor": 5
}
