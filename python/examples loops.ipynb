{
 "cells": [
  {
   "cell_type": "code",
   "execution_count": null,
   "id": "a4fce4c9",
   "metadata": {},
   "outputs": [],
   "source": [
    "# printing hello world five times using while loop\n",
    "n  = 0\n",
    "while n < 5:\n",
    "    print(\"hello world\")\n",
    "    n+=1 #incraseing counter by 1\n",
    "print(\"outside of loop\") #outside the loop"
   ]
  },
  {
   "cell_type": "code",
   "execution_count": null,
   "id": "1c69c035",
   "metadata": {},
   "outputs": [],
   "source": [
    "# countaing numbers from 0 to 5\n",
    "i = 0\n",
    "n = 5\n",
    "while i < n:\n",
    "    print(i)\n",
    "    i+=1\n",
    "print('outside of loop')\n"
   ]
  },
  {
   "cell_type": "code",
   "execution_count": null,
   "id": "ada32cd4",
   "metadata": {},
   "outputs": [],
   "source": [
    "# counting numbers from 0 to N\n",
    "i = 0\n",
    "N = int(input('enter number: '))\n",
    "while i < N:\n",
    "    print(i)\n",
    "    i+=1\n",
    "print(\"outside of loop\")"
   ]
  },
  {
   "cell_type": "code",
   "execution_count": null,
   "id": "f5fff71e",
   "metadata": {},
   "outputs": [],
   "source": [
    "# initizlize sum and counter\n",
    "i = 1\n",
    "n = 10\n",
    "sum = 0\n",
    "while i <= 10:\n",
    "    sum = sum + i\n",
    "    i+=1 #update counter\n",
    "\n",
    "# print the sum\n",
    "print(\"this sum is\", sum)"
   ]
  },
  {
   "cell_type": "code",
   "execution_count": null,
   "id": "d5dd85f7",
   "metadata": {},
   "outputs": [],
   "source": [
    "# initizlize sum and counter\n",
    "i = 1\n",
    "n = 10\n",
    "sum = 0\n",
    "while i <= 10:\n",
    "    if i % 2 == 0:\n",
    "        sum = sum + i        \n",
    "    i+=1 #update counter   \n",
    "\n",
    "# print the sum\n",
    "print(\"this sum is\", sum)"
   ]
  },
  {
   "cell_type": "code",
   "execution_count": null,
   "id": "31d5ff8a",
   "metadata": {},
   "outputs": [],
   "source": [
    "# Example 4 (Sum natural numbers until user press q to quit the program)\n",
    "sum = 0\n",
    "input_value = 0\n",
    "while input_value !='q':\n",
    "    sum += int(input_value)\n",
    "    print(\"sum = \", sum)\n",
    "    print('Enter new number to add or press q to quite the program')\n",
    "    input_value = input()\n",
    "print(\"outside of loop\")"
   ]
  },
  {
   "cell_type": "code",
   "execution_count": null,
   "id": "09136a8a",
   "metadata": {},
   "outputs": [],
   "source": [
    "# BREAK AND CONTINUE \n",
    "# we break when the value equals to 5\n",
    "i = 1\n",
    "while i<=10:\n",
    "    if i ==5:\n",
    "        break #break here\n",
    "    \n",
    "    print(\"number is \",i)\n",
    "    i+=1\n",
    "print('outside of loop')"
   ]
  },
  {
   "cell_type": "code",
   "execution_count": null,
   "id": "04d91a7e",
   "metadata": {},
   "outputs": [],
   "source": [
    "# we continue when the value equals to 5\n",
    "i = 0\n",
    "while i<=10:\n",
    "    i+=1\n",
    "    if i == 5:\n",
    "        continue #continue here\n",
    "    \n",
    "    print(\"number is \",i)\n",
    "    \n",
    "print('outside of loop')"
   ]
  },
  {
   "cell_type": "code",
   "execution_count": null,
   "id": "adb02044",
   "metadata": {},
   "outputs": [],
   "source": [
    "# Example 5 (Loop through list Value)\n",
    "# loop through list values\n",
    "for i in [5,4,3,2,1]:    \n",
    "    print(i)\n",
    "print(\"Good Bye\")\n"
   ]
  },
  {
   "cell_type": "code",
   "execution_count": null,
   "id": "19ae6aa0",
   "metadata": {},
   "outputs": [],
   "source": [
    "# Example 6 (Taking Square of Numbers from 0 to 4)\n",
    "# taking square of no.s from 0 to 4\n",
    "for i in range(4):\n",
    "    print(i**2)"
   ]
  },
  {
   "cell_type": "code",
   "execution_count": null,
   "id": "c49156e0",
   "metadata": {},
   "outputs": [],
   "source": [
    "# this programs calculate the table of a given number\n",
    "  \n",
    "def table(num):\n",
    "    for i in range(10):\n",
    "        print(number,\" * \", i , \" = \",number*i)\n",
    "          \n",
    "   \n",
    "table(number)\n",
    "    \n",
    "    \n",
    "    "
   ]
  },
  {
   "cell_type": "code",
   "execution_count": null,
   "id": "3cb440e8",
   "metadata": {},
   "outputs": [],
   "source": [
    "for i in range(10):\n",
    "    print(i)"
   ]
  },
  {
   "cell_type": "code",
   "execution_count": null,
   "id": "69024ce6",
   "metadata": {},
   "outputs": [],
   "source": []
  },
  {
   "cell_type": "code",
   "execution_count": 3,
   "id": "869c7f04",
   "metadata": {},
   "outputs": [
    {
     "name": "stdout",
     "output_type": "stream",
     "text": [
      "enter first number3\n",
      "enter second number5\n",
      "1\n"
     ]
    }
   ],
   "source": [
    "num1 = int(input(\"enter first number\"))\n",
    "num2 = int(input(\"enter second number\"))\n",
    "n = 1\n",
    "div = 1\n",
    "while (div != 0):\n",
    "    div = (num1 and num2)% n\n",
    "    if (div == 0):\n",
    "        break\n",
    "    n+=1\n",
    "    \n",
    "print(n)"
   ]
  },
  {
   "cell_type": "code",
   "execution_count": null,
   "id": "15b60a45",
   "metadata": {},
   "outputs": [],
   "source": [
    "number = int(input(\"enter number\"))\n",
    "n = 1\n",
    "while n<=10:\n",
    "    print(number,\" * \", n , \" = \",number*n)\n",
    "    n+=1"
   ]
  },
  {
   "cell_type": "code",
   "execution_count": null,
   "id": "91605ca8",
   "metadata": {},
   "outputs": [],
   "source": [
    "\"\"\"least commom multiple\n",
    "common\n",
    "\n",
    "min \n",
    "\n",
    "\n",
    "\"\"\""
   ]
  },
  {
   "cell_type": "code",
   "execution_count": 2,
   "id": "b5d4f9fc",
   "metadata": {},
   "outputs": [
    {
     "name": "stdout",
     "output_type": "stream",
     "text": [
      "enter first number6\n",
      "enter second number88\n",
      "2\n"
     ]
    }
   ],
   "source": [
    "num1 = int(input(\"enter first number\"))\n",
    "num2 = int(input(\"enter second number\"))\n",
    "n = 1\n",
    "div = 1\n",
    "while (div != 0):\n",
    "    div = (num1 and num2)% n\n",
    "    if (div != 0):\n",
    "        break\n",
    "    else:\n",
    "        n+=1\n",
    "    \n",
    "print(n)"
   ]
  },
  {
   "cell_type": "code",
   "execution_count": null,
   "id": "282f33f2",
   "metadata": {},
   "outputs": [],
   "source": []
  },
  {
   "cell_type": "code",
   "execution_count": null,
   "id": "836b3203",
   "metadata": {},
   "outputs": [],
   "source": []
  },
  {
   "cell_type": "code",
   "execution_count": 4,
   "id": "a8a295e3",
   "metadata": {},
   "outputs": [
    {
     "name": "stdout",
     "output_type": "stream",
     "text": [
      "enter first number34\n",
      "enter second number4\n",
      "2\n"
     ]
    }
   ],
   "source": [
    "# this program gives us the Hcf of given two numbers\n",
    "num1 = int(input(\"enter first number\"))\n",
    "num2 = int(input(\"enter second number\"))\n",
    "n = 1000\n",
    "while True:    \n",
    "    if (num2%n==0 and num1%n==0):\n",
    "        print(n)\n",
    "        break\n",
    "    else:\n",
    "        \n",
    "        n-=1"
   ]
  },
  {
   "cell_type": "code",
   "execution_count": 1,
   "id": "6c087e00",
   "metadata": {},
   "outputs": [
    {
     "name": "stdout",
     "output_type": "stream",
     "text": [
      "enter first number4\n",
      "enter second number5\n",
      "hcf of  4 and 5 is:  1\n"
     ]
    }
   ],
   "source": [
    "num1 = int(input(\"enter first number\"))\n",
    "num2 = int(input(\"enter second number\"))\n",
    "\n",
    "def hcf(c,d):\n",
    "    Min = min(num1,num2)\n",
    "    Max = max(num1,num2)\n",
    "\n",
    "    while True:\n",
    "        if Max%Min == 0:\n",
    "            a = Min\n",
    "            break\n",
    "        a = Max%Min\n",
    "        Max = Min\n",
    "        Min = a\n",
    "    return a\n",
    "\n",
    "total = hcf(num1,num2)\n",
    "print('hcf of ',num1,'and',num2,'is: ', total)"
   ]
  },
  {
   "cell_type": "code",
   "execution_count": null,
   "id": "cbff22f4",
   "metadata": {},
   "outputs": [],
   "source": []
  },
  {
   "cell_type": "code",
   "execution_count": null,
   "id": "34877701",
   "metadata": {},
   "outputs": [],
   "source": []
  }
 ],
 "metadata": {
  "kernelspec": {
   "display_name": "Python 3",
   "language": "python",
   "name": "python3"
  },
  "language_info": {
   "codemirror_mode": {
    "name": "ipython",
    "version": 3
   },
   "file_extension": ".py",
   "mimetype": "text/x-python",
   "name": "python",
   "nbconvert_exporter": "python",
   "pygments_lexer": "ipython3",
   "version": "3.8.8"
  }
 },
 "nbformat": 4,
 "nbformat_minor": 5
}
