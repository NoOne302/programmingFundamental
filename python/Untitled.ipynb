{
 "cells": [
  {
   "cell_type": "code",
   "execution_count": null,
   "id": "c027e1db",
   "metadata": {},
   "outputs": [],
   "source": [
    "from math import pi\n",
    "\n",
    "print('Your radius should be a \"number\"')\n",
    "radius = float(input('enter radius: '));\n",
    "\n",
    "def calculator():\n",
    "    \n",
    "    area = pi * pow(radius,2);\n",
    "    circumference = 2 * pi * radius;\n",
    "    \n",
    "    print('area is :',area)\n",
    "    print('circumference is:',circumference)\n",
    "calculator()"
   ]
  },
  {
   "cell_type": "code",
   "execution_count": null,
   "id": "0da658ef",
   "metadata": {},
   "outputs": [],
   "source": []
  },
  {
   "cell_type": "code",
   "execution_count": null,
   "id": "89f5d02f",
   "metadata": {},
   "outputs": [],
   "source": [
    "print('Your length should be a \"number\"');\n",
    "length = float(input('enter length: '));\n",
    "             \n",
    "area = pow(length,2);\n",
    "parameter = 4*(length);\n",
    "\n",
    "print(\"area is:\", area)\n",
    "print('parameter:', parameter)\n",
    "             "
   ]
  },
  {
   "cell_type": "code",
   "execution_count": 1,
   "id": "5c130e4c",
   "metadata": {},
   "outputs": [
    {
     "name": "stdout",
     "output_type": "stream",
     "text": [
      "give two numbers. first for length and second for width \n",
      "area is: 15\n",
      "parameter: 30\n"
     ]
    }
   ],
   "source": [
    "\n",
    "print('give two numbers. first for length and second for width ')\n",
    "def calculator(length,width):\n",
    "    area = length * width;\n",
    "    parameter = 2*(length * width)\n",
    "    \n",
    "    print(\"area is:\", area)\n",
    "    print('parameter:', parameter)\n",
    "    \n",
    "answer = calculator(3, 5) \n",
    "    \n"
   ]
  },
  {
   "cell_type": "code",
   "execution_count": null,
   "id": "e482d3cb",
   "metadata": {},
   "outputs": [],
   "source": []
  },
  {
   "cell_type": "code",
   "execution_count": null,
   "id": "d03720a7",
   "metadata": {},
   "outputs": [],
   "source": []
  }
 ],
 "metadata": {
  "kernelspec": {
   "display_name": "Python 3",
   "language": "python",
   "name": "python3"
  },
  "language_info": {
   "codemirror_mode": {
    "name": "ipython",
    "version": 3
   },
   "file_extension": ".py",
   "mimetype": "text/x-python",
   "name": "python",
   "nbconvert_exporter": "python",
   "pygments_lexer": "ipython3",
   "version": "3.8.8"
  }
 },
 "nbformat": 4,
 "nbformat_minor": 5
}
